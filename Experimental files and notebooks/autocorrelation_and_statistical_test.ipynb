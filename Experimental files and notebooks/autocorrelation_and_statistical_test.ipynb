{
 "cells": [
  {
   "cell_type": "markdown",
   "metadata": {},
   "source": [
    "#Load locally stored data:"
   ]
  },
  {
   "cell_type": "code",
   "execution_count": 6,
   "metadata": {},
   "outputs": [],
   "source": [
    "import numpy as np\n",
    "import matplotlib.pyplot as plt\n",
    "import pandas as pd\n",
    "import datetime as dt\n",
    "import os\n",
    "import locale\n",
    "\n",
    "locale.setlocale(locale.LC_ALL, 'en_US.UTF-8') #This is needed to convert string values of type 1,999.99 \n",
    "                                               #to float 1999.99\n",
    "\n",
    "#Define where are the datasets\n",
    "\n",
    "#Paths for data with market info\n",
    "#path = os.getcwd()+\"/exper_files/datasets/\" #Here they are datasets from yahoo\n",
    "path = os.getcwd()+\"/exper_files/coinmarket/\" #Here they are datasets from coinmarket\n",
    "\n",
    "#Paths for data with social info\n",
    "social_path = os.getcwd()+\"/exper_files/social_datasets/cryptocompare/\" #Define where are the datasets from cryptocompare"
   ]
  },
  {
   "cell_type": "markdown",
   "metadata": {},
   "source": [
    "Create the whole dataset:"
   ]
  },
  {
   "cell_type": "code",
   "execution_count": 2,
   "metadata": {},
   "outputs": [],
   "source": [
    "def dataset_creation(crypto_list, pth, social_pth):\n",
    "    datasets = {} #Store all datasets here\n",
    "    social_datasets = {} #Store all datasets with social media information here\n",
    "    \n",
    "    min_dates = {} #Store all minimum dates here\n",
    "    max_dates = {} #Store all maximum dates here\n",
    "    \n",
    "    datasets_list = os.listdir(pth) #Find all dataset\n",
    "    social_datasets_list = os.listdir(social_pth) #Find all dataset with social media information\n",
    "    \n",
    "    splitted_path = path.split('/')\n",
    "    if splitted_path[-2] == 'coinmarket':\n",
    "        type_of_file = '.txt'\n",
    "    \n",
    "    elif splitted_path[-2] == 'datasets':\n",
    "        type_of_file = '.csv'\n",
    "        \n",
    "    \n",
    "    social_crypto_list = [elem+'.csv' for elem in crypto_list]\n",
    "    crypto_list = [elem+type_of_file for elem in crypto_list]\n",
    "    \n",
    "    \n",
    "    for dataset in datasets_list:\n",
    "        if dataset.endswith(type_of_file) and (dataset) in crypto_list:\n",
    "\n",
    "            name = dataset.split(\".\")\n",
    "            dataset_name = name[0]\n",
    "            \n",
    "            if splitted_path[-2] == 'datasets':\n",
    "                \n",
    "                datasets[dataset_name] = pd.read_csv(pth + dataset) \n",
    "\n",
    "                datasets[dataset_name]['Date'] = pd.to_datetime(datasets[dataset_name]['Date']) #Dataset from yahoo\n",
    "                                                                                            #is stored ia .csv file.\n",
    "                    \n",
    "                datasets[dataset].rename(columns={'Adj Close':dataset+'Adj_Close'}) #Space will cause troubles\n",
    "                \n",
    "            \n",
    "            elif splitted_path[-2] == 'coinmarket':  \n",
    "                    \n",
    "                lines = []\n",
    "                with open(pth + dataset) as f: #Dataset from coinmarket is stored in a .txt file, so we need to read it\n",
    "                                               #line by line.\n",
    "                    lines = f.readlines()\n",
    "                \n",
    "                initial_columns = lines[0].split(\"\\t\") #Split the first line to individual words. The first line \n",
    "                                                       #contains the column names. \n",
    "                columns = []\n",
    "                for col in initial_columns:\n",
    "                    clear_col = col.split('*') #Some column names contains * or **, so we need to exclude them\n",
    "                    clear_col = clear_col[0].split('\\n') #The last element cointains a \\n\n",
    "                    \n",
    "                    if clear_col[0] == 'Market Cap':\n",
    "                        clear_col[0] = 'Market_Cap' #Space will cause troubles\n",
    "                    columns.append(clear_col[0])\n",
    "                \n",
    "                df = pd.DataFrame(columns=columns) #Define column names\n",
    "                \n",
    "                \n",
    "                for line in range(1, len(lines)):\n",
    "                    \n",
    "                    splitted_line = lines[line].split(\"\\t\") #Split each line to individual numbers\n",
    "                    \n",
    "                    for elem in range(len(splitted_line)):\n",
    "                        clear_elem = splitted_line[elem].split('$') #All number cointains a $ (except Date) so we need \n",
    "                                                                    #throw it away.\n",
    "                        \n",
    "                        if len(clear_elem) == 1:\n",
    "                            splitted_line[elem] = pd.to_datetime(clear_elem[0])#Tranform each Date to 'datetime' type\n",
    "                            \n",
    "                        else:\n",
    "                            clear_elem[1] = clear_elem[1].split('\\n')\n",
    "                            splitted_line[elem] = locale.atof(clear_elem[1][0])\n",
    "                    \n",
    "                    #Append each line to the dataframe\n",
    "                    row_to_append = pd.Series(splitted_line, index=columns)                    \n",
    "                    df = df.append(row_to_append, ignore_index=True)\n",
    "                \n",
    "                #Invert the sorting of values to ascending based on 'Date'\n",
    "                df = df.sort_values(by=['Date']).reset_index().drop(['index'], axis=1)\n",
    "                datasets[dataset_name] = df.copy()\n",
    "            \n",
    "            #There are a few missing values, so let fill them with the previous value\n",
    "            datasets[dataset_name].fillna(method='ffill', inplace=True)\n",
    "\n",
    "            #Create new columns 'close_off_high' and 'volatility' in order to make predictions more accurate:\n",
    "            kwards = {'close_off_high': lambda x: 2 * (x['High'] - x['Close']) / (x['High'] - x['Low']) - 1,\n",
    "              'volatility': lambda x: (x['High'] - x['Low']) / (x['Open'])\n",
    "              }\n",
    "\n",
    "            datasets[dataset_name] = datasets[dataset_name].assign(**kwards)\n",
    "            \n",
    "            datasets[dataset_name].fillna(-1, inplace=True) #Fill possible NaN close_off_high values with -1\n",
    "                                                            #Because NaN values caused by (0/0)-1\n",
    "            \n",
    "\n",
    "            first_date = pd.to_datetime(datasets[dataset_name]['Date'][0])\n",
    "            min_dates[dataset_name]=first_date\n",
    "            \n",
    "            last_date = pd.to_datetime(datasets[dataset_name]['Date'].iloc[-1])\n",
    "            max_dates[dataset_name] = last_date\n",
    "            \n",
    "    \n",
    "    \n",
    "    #Get social media information for each coin from the corresponding csv\n",
    "    for dataset in social_datasets_list:\n",
    "        if dataset.endswith(\".csv\") and (dataset) in social_crypto_list:\n",
    "            \n",
    "            name = dataset.split(\".\")\n",
    "            dataset_name = name[0]\n",
    "\n",
    "            social_datasets[dataset_name] = pd.read_csv(social_pth + dataset) \n",
    "            \n",
    "            social_datasets[dataset_name]['time'] = pd.to_datetime(social_datasets[dataset_name]['time'])\n",
    "            \n",
    "            #Drop first column which is an unused index\n",
    "            social_datasets[dataset_name] = social_datasets[dataset_name].iloc[:, 1:]\n",
    "            \n",
    "            #We observed that there are many zero rows at social media datasets.\n",
    "            #We should find the first row which is non-zero\n",
    "            res = [next(((j, i) for i, j in enumerate(social_datasets[dataset_name][col]) if j != 0), (0, 0)) \n",
    "                   for col in social_datasets[dataset_name] if col != 'time']\n",
    "            \n",
    "            #Get all columns except 'time'\n",
    "            columns_except_time = [col for col in social_datasets[dataset_name].columns if col != 'time']\n",
    "            \n",
    "            #Store the index of each column with the first non-zero element\n",
    "            df_res = pd.DataFrame(res, columns=['value', 'position'], index=columns_except_time)\n",
    "            \n",
    "            #Get the minimum of these indices\n",
    "            first_non_zero_row = df_res['position'].min()\n",
    "\n",
    "            \n",
    "            first_date = pd.to_datetime(social_datasets[dataset_name]['time'][first_non_zero_row])\n",
    "            if first_date >  min_dates[dataset_name]:\n",
    "                 min_dates[dataset_name] = first_date\n",
    "                    \n",
    "            last_date = pd.to_datetime(social_datasets[dataset_name]['time'].iloc[-1])\n",
    "            if last_date < max_dates[dataset_name]:\n",
    "                max_dates[dataset_name] = last_date\n",
    "            \n",
    "    \n",
    "    \n",
    "    max_date = max(min_dates.values(), key=lambda v: v)\n",
    "    min_date = min(max_dates.values(), key=lambda v: v)\n",
    "\n",
    "    #Drop all the data which are prior to max_date and later to min_date\n",
    "    for dataset in datasets:\n",
    "        datasets[dataset] = datasets[dataset][(datasets[dataset]['Date'] >= max_date) & \n",
    "                                              (datasets[dataset]['Date'] <= min_date)]\n",
    "        \n",
    "    for dataset in social_datasets:\n",
    "        social_datasets[dataset] = social_datasets[dataset][(social_datasets[dataset]['time'] >= max_date) & \n",
    "                                                            (social_datasets[dataset]['time'] <= min_date)]\n",
    "\n",
    "\n",
    "    #Compute the average and standard deviation of 'Close' value for the last 7-days and 30-days(month): \n",
    "    for dataset in datasets:\n",
    "\n",
    "        temp = datasets[dataset].copy()\n",
    "\n",
    "        #Drop the first 30 days to be able to compute average and standard deviation of month for the rows of the table\n",
    "        temp = temp[29:]\n",
    "\n",
    "        temp['mean_7days_Close'] = datasets[dataset]['Close'].rolling(window=7).mean()\n",
    "\n",
    "        temp['mean_month_Close'] = datasets[dataset]['Close'].rolling(window=30).mean()\n",
    "\n",
    "        temp['std_7days_Close'] = datasets[dataset]['Close'].rolling(window=7).std()\n",
    "\n",
    "        temp['std_month_Close'] = datasets[dataset]['Close'].rolling(window=30).std()\n",
    "\n",
    "        datasets[dataset] = temp.copy()\n",
    "        \n",
    "    \n",
    "    #Drop the first 30 days of 'social_datasets' to be aligned with 'datasets'\n",
    "    for dataset in social_datasets:\n",
    "            social_datasets[dataset] = social_datasets[dataset][29:]\n",
    "          \n",
    "\n",
    "\n",
    "    #Rename the columns and concatenate all datasets to one \n",
    "    count = 0\n",
    "    for dataset in datasets:\n",
    "\n",
    "        datasets[dataset] = datasets[dataset].rename(columns=lambda x: dataset+'_'+x)\n",
    "        datasets[dataset] = datasets[dataset].rename(columns={dataset+'_Date': 'Date'})                                                   \n",
    "        \n",
    "        if count == 0:\n",
    "            \n",
    "            date_col = (datasets[dataset]['Date'].reset_index()).drop(['index'], axis=1)\n",
    "            \n",
    "            \n",
    "        datasets[dataset] = ((datasets[dataset].drop(['Date'], axis=1)).reset_index()).drop(['index'], axis=1)    \n",
    "                    \n",
    "    \n",
    "    for dataset in social_datasets:\n",
    "        \n",
    "        social_datasets[dataset] = social_datasets[dataset].rename(columns=lambda x: dataset+'_'+x)\n",
    "        \n",
    "        social_datasets[dataset] = ((social_datasets[dataset].drop([dataset+'_time'], axis=1)).reset_index()).drop(['index'], \n",
    "                                                                                                          axis=1) \n",
    "\n",
    "    \n",
    "    \n",
    "    #Concatenate all datasets to one \n",
    "    whole_market_dataset = pd.concat([datasets[dataset] for dataset in datasets], axis=1)\n",
    "    whole_social_dataset = pd.concat([social_datasets[dataset] for dataset in social_datasets], axis=1)\n",
    "    whole_dataset = pd.concat([date_col, whole_market_dataset, whole_social_dataset], axis=1)\n",
    "    \n",
    "   \n",
    "    return whole_dataset"
   ]
  },
  {
   "cell_type": "markdown",
   "metadata": {},
   "source": [
    "#Create autocorrelation plot for cryptocurrencies *Close* values.\n",
    "\n",
    "If the blue line is out of the inner space of dotted lines, then with 95% confidence level there is no significant correlation of *Close* value with time, in the current fraction of time. If so, it means that these values are randomly distributed or they depend on several other factors."
   ]
  },
  {
   "cell_type": "code",
   "execution_count": 7,
   "metadata": {},
   "outputs": [
    {
     "data": {
      "text/plain": [
       "<AxesSubplot:xlabel='Lag', ylabel='Autocorrelation'>"
      ]
     },
     "execution_count": 7,
     "metadata": {},
     "output_type": "execute_result"
    },
    {
     "data": {
      "image/png": "[encoded data removed]",
      "text/plain": [
       "<Figure size 432x288 with 1 Axes>"
      ]
     },
     "metadata": {
      "needs_background": "light"
     },
     "output_type": "display_data"
    }
   ],
   "source": [
    "from pandas.plotting import autocorrelation_plot\n",
    "\n",
    "#Get data\n",
    "crypto_list = ['BTC-USD', 'ETH-USD', 'DOGE-USD', 'USDT-USD']\n",
    "\n",
    "data = dataset_creation(crypto_list, path, social_path)\n",
    "autocorrelation_plot(data['BTC-USD_Close'])"
   ]
  },
  {
   "cell_type": "code",
   "execution_count": 8,
   "metadata": {},
   "outputs": [
    {
     "data": {
      "text/plain": [
       "<AxesSubplot:xlabel='Lag', ylabel='Autocorrelation'>"
      ]
     },
     "execution_count": 8,
     "metadata": {},
     "output_type": "execute_result"
    },
    {
     "data": {
      "image/png": "[encoded data removed]",
      "text/plain": [
       "<Figure size 432x288 with 1 Axes>"
      ]
     },
     "metadata": {
      "needs_background": "light"
     },
     "output_type": "display_data"
    }
   ],
   "source": [
    "autocorrelation_plot(data['ETH-USD_Close'])"
   ]
  },
  {
   "cell_type": "code",
   "execution_count": 9,
   "metadata": {},
   "outputs": [
    {
     "data": {
      "text/plain": [
       "<AxesSubplot:xlabel='Lag', ylabel='Autocorrelation'>"
      ]
     },
     "execution_count": 9,
     "metadata": {},
     "output_type": "execute_result"
    },
    {
     "data": {
      "image/png": "[encoded data removed]",
      "text/plain": [
       "<Figure size 432x288 with 1 Axes>"
      ]
     },
     "metadata": {
      "needs_background": "light"
     },
     "output_type": "display_data"
    }
   ],
   "source": [
    "autocorrelation_plot(data['DOGE-USD_Close'])"
   ]
  },
  {
   "cell_type": "code",
   "execution_count": 10,
   "metadata": {},
   "outputs": [
    {
     "data": {
      "text/plain": [
       "<AxesSubplot:xlabel='Lag', ylabel='Autocorrelation'>"
      ]
     },
     "execution_count": 10,
     "metadata": {},
     "output_type": "execute_result"
    },
    {
     "data": {
      "image/png": "[encoded data removed]",
      "text/plain": [
       "<Figure size 432x288 with 1 Axes>"
      ]
     },
     "metadata": {
      "needs_background": "light"
     },
     "output_type": "display_data"
    }
   ],
   "source": [
    "autocorrelation_plot(data['USDT-USD_Close'])"
   ]
  },
  {
   "cell_type": "markdown",
   "metadata": {},
   "source": [
    "#Perform Augmented Decay-Fuller test to check time series stationarity. \n",
    "\n",
    "Stationarity of a time-series is a necessary feature to feed it in a Neural Network. ADF is a type of test which called *union root test* and indicates if there is a trend or pattern in time series and how strong it is."
   ]
  },
  {
   "cell_type": "code",
   "execution_count": 14,
   "metadata": {},
   "outputs": [
    {
     "name": "stdout",
     "output_type": "stream",
     "text": [
      "ADF for original BTC timeseries:\n",
      "ADF Statistic: 2.994192\n",
      "p-value: 1.000000\n",
      "Critical Values:\n",
      "\t1%: -3.435\n",
      "\t5%: -2.864\n",
      "\t10%: -2.568\n",
      "ADF for log transform BTC timeseries\n",
      "ADF Statistic: -0.415931\n",
      "p-value: 0.907405\n",
      "Critical Values:\n",
      "\t1%: -3.435\n",
      "\t5%: -2.864\n",
      "\t10%: -2.568\n"
     ]
    }
   ],
   "source": [
    "from statsmodels.tsa.stattools import adfuller\n",
    "from numpy import log #numpy log is ln\n",
    "\n",
    "print(\"ADF for original BTC timeseries:\")\n",
    "X = data['BTC-USD_Close'].values\n",
    "result = adfuller(X)\n",
    "print('ADF Statistic: %f' % result[0])\n",
    "print('p-value: %f' % result[1])\n",
    "print('Critical Values:')\n",
    "for key, value in result[4].items():\n",
    "    print('\\t%s: %.3f' % (key, value))\n",
    "    \n",
    "print(\"ADF for log transform BTC timeseries\")\n",
    "X = log(data['BTC-USD_Close'].values)\n",
    "result = adfuller(X)\n",
    "print('ADF Statistic: %f' % result[0])\n",
    "print('p-value: %f' % result[1])\n",
    "print('Critical Values:')\n",
    "for key, value in result[4].items():\n",
    "    print('\\t%s: %.3f' % (key, value))\n",
    "    "
   ]
  },
  {
   "cell_type": "code",
   "execution_count": 33,
   "metadata": {},
   "outputs": [
    {
     "name": "stdout",
     "output_type": "stream",
     "text": [
      "ADF for ((y^l)-1)/l, where l=-3, transform BTC timeseries\n",
      "ADF Statistic: -6.962898\n",
      "p-value: 0.000000\n",
      "Critical Values:\n",
      "\t1%: -3.435\n",
      "\t5%: -2.864\n",
      "\t10%: -2.568\n"
     ]
    }
   ],
   "source": [
    "#from sklearn.preprocessing import MinMaxScaler\n",
    "\n",
    "print(\"ADF for ((y^l)-1)/l, where l=-3, transform BTC timeseries\")\n",
    "X = (((data['BTC-USD_Close'].values)**(-3))-1)/-3\n",
    "\n",
    "#scaler = MinMaxScaler(feature_range=(0, 1))\n",
    "#X_transformed = scaler.fit_transform(X.reshape(-1, 1))\n",
    "\n",
    "result = adfuller(X)\n",
    "print('ADF Statistic: %f' % result[0])\n",
    "print('p-value: %f' % result[1])\n",
    "print('Critical Values:')\n",
    "for key, value in result[4].items():\n",
    "    print('\\t%s: %.3f' % (key, value))\n",
    "    "
   ]
  },
  {
   "cell_type": "code",
   "execution_count": 16,
   "metadata": {},
   "outputs": [
    {
     "name": "stdout",
     "output_type": "stream",
     "text": [
      "ADF for ((y^l)-1)/l, where l=-2, transform BTC timeseries\n",
      "ADF Statistic: -5.740777\n",
      "p-value: 0.000001\n",
      "Critical Values:\n",
      "\t1%: -3.435\n",
      "\t5%: -2.864\n",
      "\t10%: -2.568\n"
     ]
    }
   ],
   "source": [
    "print(\"ADF for ((y^l)-1)/l, where l=-2, transform BTC timeseries\")\n",
    "X = (((data['BTC-USD_Close'].values)**(-2))-1)/-2\n",
    "result = adfuller(X)\n",
    "print('ADF Statistic: %f' % result[0])\n",
    "print('p-value: %f' % result[1])\n",
    "print('Critical Values:')\n",
    "for key, value in result[4].items():\n",
    "    print('\\t%s: %.3f' % (key, value))"
   ]
  },
  {
   "cell_type": "code",
   "execution_count": 17,
   "metadata": {},
   "outputs": [
    {
     "name": "stdout",
     "output_type": "stream",
     "text": [
      "ADF for ((y^l)-1)/l, where l=-3, transform BTC timeseries\n",
      "ADF Statistic: -1.848654\n",
      "p-value: 0.356588\n",
      "Critical Values:\n",
      "\t1%: -3.435\n",
      "\t5%: -2.864\n",
      "\t10%: -2.568\n"
     ]
    }
   ],
   "source": [
    "print(\"ADF for ((y^l)-1)/l, where l=-0.5, transform BTC timeseries\")\n",
    "X = (((data['BTC-USD_Close'].values)**(-0.5))-1)/-0.5\n",
    "result = adfuller(X)\n",
    "print('ADF Statistic: %f' % result[0])\n",
    "print('p-value: %f' % result[1])\n",
    "print('Critical Values:')\n",
    "for key, value in result[4].items():\n",
    "    print('\\t%s: %.3f' % (key, value))"
   ]
  },
  {
   "cell_type": "code",
   "execution_count": 18,
   "metadata": {},
   "outputs": [
    {
     "name": "stdout",
     "output_type": "stream",
     "text": [
      "ADF for ((y^l)-1)/l, where l=-3, transform BTC timeseries\n",
      "ADF Statistic: 0.661105\n",
      "p-value: 0.989029\n",
      "Critical Values:\n",
      "\t1%: -3.435\n",
      "\t5%: -2.864\n",
      "\t10%: -2.568\n"
     ]
    }
   ],
   "source": [
    "print(\"ADF for ((y^l)-1)/l, where l=0.5, transform BTC timeseries\")\n",
    "X = (((data['BTC-USD_Close'].values)**(0.5))-1)/0.5\n",
    "result = adfuller(X)\n",
    "print('ADF Statistic: %f' % result[0])\n",
    "print('p-value: %f' % result[1])\n",
    "print('Critical Values:')\n",
    "for key, value in result[4].items():\n",
    "    print('\\t%s: %.3f' % (key, value))"
   ]
  },
  {
   "cell_type": "code",
   "execution_count": 19,
   "metadata": {},
   "outputs": [
    {
     "name": "stdout",
     "output_type": "stream",
     "text": [
      "ADF for ((y^l)-1)/l, where l=1, transform BTC timeseries\n",
      "ADF Statistic: 2.994192\n",
      "p-value: 1.000000\n",
      "Critical Values:\n",
      "\t1%: -3.435\n",
      "\t5%: -2.864\n",
      "\t10%: -2.568\n"
     ]
    }
   ],
   "source": [
    "print(\"ADF for ((y^l)-1)/l, where l=1, transform BTC timeseries\")\n",
    "X = (((data['BTC-USD_Close'].values)**(1))-1)/1\n",
    "result = adfuller(X)\n",
    "print('ADF Statistic: %f' % result[0])\n",
    "print('p-value: %f' % result[1])\n",
    "print('Critical Values:')\n",
    "for key, value in result[4].items():\n",
    "    print('\\t%s: %.3f' % (key, value))"
   ]
  },
  {
   "cell_type": "code",
   "execution_count": 20,
   "metadata": {},
   "outputs": [
    {
     "name": "stdout",
     "output_type": "stream",
     "text": [
      "ADF for ((y^l)-1)/l, where l=2, transform BTC timeseries\n",
      "ADF Statistic: 4.462368\n",
      "p-value: 1.000000\n",
      "Critical Values:\n",
      "\t1%: -3.435\n",
      "\t5%: -2.864\n",
      "\t10%: -2.568\n"
     ]
    }
   ],
   "source": [
    "print(\"ADF for ((y^l)-1)/l, where l=2, transform BTC timeseries\")\n",
    "X = (((data['BTC-USD_Close'].values)**(2))-1)/2\n",
    "result = adfuller(X)\n",
    "print('ADF Statistic: %f' % result[0])\n",
    "print('p-value: %f' % result[1])\n",
    "print('Critical Values:')\n",
    "for key, value in result[4].items():\n",
    "    print('\\t%s: %.3f' % (key, value))"
   ]
  },
  {
   "cell_type": "code",
   "execution_count": 24,
   "metadata": {},
   "outputs": [
    {
     "name": "stdout",
     "output_type": "stream",
     "text": [
      "ADF for original ETH timeseries:\n",
      "ADF Statistic: 3.051927\n",
      "p-value: 1.000000\n",
      "Critical Values:\n",
      "\t1%: -3.435\n",
      "\t5%: -2.864\n",
      "\t10%: -2.568\n",
      "ADF for ((y^l)-1)/l, where l=-3, transform BTC timeseries\n",
      "ADF Statistic: -3.196823\n",
      "p-value: 0.020169\n",
      "Critical Values:\n",
      "\t1%: -3.435\n",
      "\t5%: -2.864\n",
      "\t10%: -2.568\n"
     ]
    }
   ],
   "source": [
    "#########ETH##############\n",
    "print(\"ADF for original ETH timeseries:\")\n",
    "X = data['ETH-USD_Close'].values\n",
    "result = adfuller(X)\n",
    "print('ADF Statistic: %f' % result[0])\n",
    "print('p-value: %f' % result[1])\n",
    "print('Critical Values:')\n",
    "for key, value in result[4].items():\n",
    "    print('\\t%s: %.3f' % (key, value))\n",
    "\n",
    "\n",
    "\n",
    "print(\"ADF for ((y^l)-1)/l, where l=-3, transform ETH timeseries\")\n",
    "X = (((data['ETH-USD_Close'].values)**(-3))-1)/-3\n",
    "result = adfuller(X)\n",
    "print('ADF Statistic: %f' % result[0])\n",
    "print('p-value: %f' % result[1])\n",
    "print('Critical Values:')\n",
    "for key, value in result[4].items():\n",
    "    print('\\t%s: %.3f' % (key, value))"
   ]
  },
  {
   "cell_type": "code",
   "execution_count": 25,
   "metadata": {},
   "outputs": [
    {
     "name": "stdout",
     "output_type": "stream",
     "text": [
      "ADF for original DOGE timeseries:\n",
      "ADF Statistic: 5.132847\n",
      "p-value: 1.000000\n",
      "Critical Values:\n",
      "\t1%: -3.435\n",
      "\t5%: -2.864\n",
      "\t10%: -2.568\n",
      "ADF for ((y^l)-1)/l, where l=-3, transform BTC timeseries\n",
      "ADF Statistic: -2.968138\n",
      "p-value: 0.037979\n",
      "Critical Values:\n",
      "\t1%: -3.435\n",
      "\t5%: -2.864\n",
      "\t10%: -2.568\n"
     ]
    }
   ],
   "source": [
    "#########DOGE########\n",
    "print(\"ADF for original DOGE timeseries:\")\n",
    "X = data['DOGE-USD_Close'].values\n",
    "result = adfuller(X)\n",
    "print('ADF Statistic: %f' % result[0])\n",
    "print('p-value: %f' % result[1])\n",
    "print('Critical Values:')\n",
    "for key, value in result[4].items():\n",
    "    print('\\t%s: %.3f' % (key, value))\n",
    "\n",
    "\n",
    "print(\"ADF for ((y^l)-1)/l, where l=-3, transform DOGE timeseries\")\n",
    "X = (((data['DOGE-USD_Close'].values)**(-3))-1)/-3\n",
    "result = adfuller(X)\n",
    "print('ADF Statistic: %f' % result[0])\n",
    "print('p-value: %f' % result[1])\n",
    "print('Critical Values:')\n",
    "for key, value in result[4].items():\n",
    "    print('\\t%s: %.3f' % (key, value))"
   ]
  },
  {
   "cell_type": "code",
   "execution_count": 26,
   "metadata": {},
   "outputs": [
    {
     "name": "stdout",
     "output_type": "stream",
     "text": [
      "ADF for original USDT timeseries:\n",
      "ADF Statistic: -4.753400\n",
      "p-value: 0.000067\n",
      "Critical Values:\n",
      "\t1%: -3.435\n",
      "\t5%: -2.864\n",
      "\t10%: -2.568\n",
      "ADF for ((y^l)-1)/l, where l=-3, transform USDT timeseries\n",
      "ADF Statistic: -4.787673\n",
      "p-value: 0.000057\n",
      "Critical Values:\n",
      "\t1%: -3.435\n",
      "\t5%: -2.864\n",
      "\t10%: -2.568\n"
     ]
    }
   ],
   "source": [
    "#########DOGE########\n",
    "print(\"ADF for original USDT timeseries:\")\n",
    "X = data['USDT-USD_Close'].values\n",
    "result = adfuller(X)\n",
    "print('ADF Statistic: %f' % result[0])\n",
    "print('p-value: %f' % result[1])\n",
    "print('Critical Values:')\n",
    "for key, value in result[4].items():\n",
    "    print('\\t%s: %.3f' % (key, value))\n",
    "\n",
    "\n",
    "print(\"ADF for ((y^l)-1)/l, where l=-3, transform USDT timeseries\")\n",
    "X = (((data['USDT-USD_Close'].values)**(-3))-1)/-3\n",
    "result = adfuller(X)\n",
    "print('ADF Statistic: %f' % result[0])\n",
    "print('p-value: %f' % result[1])\n",
    "print('Critical Values:')\n",
    "for key, value in result[4].items():\n",
    "    print('\\t%s: %.3f' % (key, value))"
   ]
  },
  {
   "cell_type": "code",
   "execution_count": null,
   "metadata": {},
   "outputs": [],
   "source": []
  }
 ],
 "metadata": {
  "kernelspec": {
   "display_name": "Python 3",
   "language": "python",
   "name": "python3"
  },
  "language_info": {
   "codemirror_mode": {
    "name": "ipython",
    "version": 3
   },
   "file_extension": ".py",
   "mimetype": "text/x-python",
   "name": "python",
   "nbconvert_exporter": "python",
   "pygments_lexer": "ipython3",
   "version": "3.8.5"
  }
 },
 "nbformat": 4,
 "nbformat_minor": 4
}
