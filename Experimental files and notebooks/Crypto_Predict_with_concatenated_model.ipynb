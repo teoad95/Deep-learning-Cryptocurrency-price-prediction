{
  "nbformat": 4,
  "nbformat_minor": 0,
  "metadata": {
    "colab": {
      "name": "Crypto Predict with concatenated model.ipynb",
      "provenance": [],
      "collapsed_sections": []
    },
    "kernelspec": {
      "display_name": "Python 3",
      "language": "python",
      "name": "python3"
    },
    "language_info": {
      "codemirror_mode": {
        "name": "ipython",
        "version": 3
      },
      "file_extension": ".py",
      "mimetype": "text/x-python",
      "name": "python",
      "nbconvert_exporter": "python",
      "pygments_lexer": "ipython3",
      "version": "3.8.5"
    }
  },
  "cells": [
    {
      "cell_type": "code",
      "metadata": {
        "id": "M22ahDBtsUly"
      },
      "source": [
        "import pandas as pd\n",
        "import time\n",
        "import seaborn as sns\n",
        "import matplotlib.pyplot as plt\n",
        "import datetime\n",
        "import numpy as np"
      ],
      "execution_count": 78,
      "outputs": []
    },
    {
      "cell_type": "code",
      "metadata": {
        "colab": {
          "base_uri": "https://localhost:8080/"
        },
        "id": "DGR0CVFwtI_L",
        "outputId": "22b09873-95ef-439f-b2ba-86cb8c358060"
      },
      "source": [
        "# get market info for bitcoin from the start of 2016 to the current day\n",
        "\n",
        "eth_market_info = pd.read_csv('ETH-USD.csv')\n",
        "eth_market_info.index"
      ],
      "execution_count": 112,
      "outputs": [
        {
          "output_type": "execute_result",
          "data": {
            "text/plain": [
              "RangeIndex(start=0, stop=2110, step=1)"
            ]
          },
          "metadata": {
            "tags": []
          },
          "execution_count": 112
        }
      ]
    },
    {
      "cell_type": "code",
      "metadata": {
        "colab": {
          "base_uri": "https://localhost:8080/"
        },
        "id": "kWeBmbE6aqiZ",
        "outputId": "5eb2b3e7-7e28-4b21-cdec-5a9514033df3"
      },
      "source": [
        "btc_market_info = pd.read_csv('BTC-USD.csv')\n",
        "btc_market_info.index"
      ],
      "execution_count": 113,
      "outputs": [
        {
          "output_type": "execute_result",
          "data": {
            "text/plain": [
              "RangeIndex(start=0, stop=2434, step=1)"
            ]
          },
          "metadata": {
            "tags": []
          },
          "execution_count": 113
        }
      ]
    },
    {
      "cell_type": "code",
      "metadata": {
        "id": "NOTR09I0tP4y"
      },
      "source": [
        "eth_market_info = eth_market_info.dropna(how='any',axis=0) \n",
        "eth_market_info['Date'] = pd.to_datetime(eth_market_info['Date'])\n",
        "btc_market_info = btc_market_info.dropna(how='any',axis=0) \n",
        "btc_market_info['Date'] = pd.to_datetime(btc_market_info['Date'])"
      ],
      "execution_count": 114,
      "outputs": []
    },
    {
      "cell_type": "code",
      "metadata": {
        "id": "nBQWW3m1tSGn"
      },
      "source": [
        "# convert the date string to the correct date format\n",
        "#eth_market_info = eth_market_info.assign(Date=pd.to_datetime(eth_market_info['Date']))\n",
        "# when Volume is equal to '-' convert it to 0\n",
        "eth_market_info.loc[eth_market_info['Volume']==\"-\",'Volume']=0\n",
        "btc_market_info.loc[btc_market_info['Volume']==\"-\",'Volume']=0\n",
        "# sometime after publication of the blog, coinmarketcap starting returning asterisks in the column names\n",
        "# this will remove those asterisks\n",
        "eth_market_info.columns = eth_market_info.columns.str.replace(\"*\", \"\")\n",
        "btc_market_info.columns = btc_market_info.columns.str.replace(\"*\", \"\")"
      ],
      "execution_count": 115,
      "outputs": []
    },
    {
      "cell_type": "code",
      "metadata": {
        "colab": {
          "base_uri": "https://localhost:8080/"
        },
        "id": "EvfmAtHutU1d",
        "outputId": "a92d36dd-66f5-44e2-b773-e38c41629666"
      },
      "source": [
        "eth_market_info['Date']"
      ],
      "execution_count": 6,
      "outputs": [
        {
          "output_type": "execute_result",
          "data": {
            "text/plain": [
              "0      2015-08-07\n",
              "1      2015-08-08\n",
              "2      2015-08-09\n",
              "3      2015-08-10\n",
              "4      2015-08-11\n",
              "          ...    \n",
              "2105   2021-05-12\n",
              "2106   2021-05-13\n",
              "2107   2021-05-14\n",
              "2108   2021-05-15\n",
              "2109   2021-05-16\n",
              "Name: Date, Length: 2106, dtype: datetime64[ns]"
            ]
          },
          "metadata": {
            "tags": []
          },
          "execution_count": 6
        }
      ]
    },
    {
      "cell_type": "code",
      "metadata": {
        "id": "azF3ZOtJtf21"
      },
      "source": [
        "kwargs = {'day_diff': lambda x: (x['Close']-x['Open'])/x['Open'],\n",
        "          'volatility': lambda x: (x['High']- x['Low'])/(x['Open'])}\n",
        "eth_market_info = eth_market_info.assign(**kwargs)\n",
        "btc_market_info = btc_market_info.assign(**kwargs)"
      ],
      "execution_count": 140,
      "outputs": []
    },
    {
      "cell_type": "code",
      "metadata": {
        "id": "PBRTV6cFoEgj",
        "outputId": "9ece424d-75a4-4047-eea5-3807438476af",
        "colab": {
          "base_uri": "https://localhost:8080/",
          "height": 206
        }
      },
      "source": [
        "eth_market_info.head()"
      ],
      "execution_count": 141,
      "outputs": [
        {
          "output_type": "execute_result",
          "data": {
            "text/html": [
              "<div>\n",
              "<style scoped>\n",
              "    .dataframe tbody tr th:only-of-type {\n",
              "        vertical-align: middle;\n",
              "    }\n",
              "\n",
              "    .dataframe tbody tr th {\n",
              "        vertical-align: top;\n",
              "    }\n",
              "\n",
              "    .dataframe thead th {\n",
              "        text-align: right;\n",
              "    }\n",
              "</style>\n",
              "<table border=\"1\" class=\"dataframe\">\n",
              "  <thead>\n",
              "    <tr style=\"text-align: right;\">\n",
              "      <th></th>\n",
              "      <th>Date</th>\n",
              "      <th>Open</th>\n",
              "      <th>High</th>\n",
              "      <th>Low</th>\n",
              "      <th>Close</th>\n",
              "      <th>Adj Close</th>\n",
              "      <th>Volume</th>\n",
              "      <th>day_diff</th>\n",
              "      <th>volatility</th>\n",
              "    </tr>\n",
              "  </thead>\n",
              "  <tbody>\n",
              "    <tr>\n",
              "      <th>0</th>\n",
              "      <td>2015-08-07</td>\n",
              "      <td>2.831620</td>\n",
              "      <td>3.536610</td>\n",
              "      <td>2.521120</td>\n",
              "      <td>2.772120</td>\n",
              "      <td>2.772120</td>\n",
              "      <td>164329.0</td>\n",
              "      <td>-0.021013</td>\n",
              "      <td>0.358625</td>\n",
              "    </tr>\n",
              "    <tr>\n",
              "      <th>1</th>\n",
              "      <td>2015-08-08</td>\n",
              "      <td>2.793760</td>\n",
              "      <td>2.798810</td>\n",
              "      <td>0.714725</td>\n",
              "      <td>0.753325</td>\n",
              "      <td>0.753325</td>\n",
              "      <td>674188.0</td>\n",
              "      <td>-0.730354</td>\n",
              "      <td>0.745979</td>\n",
              "    </tr>\n",
              "    <tr>\n",
              "      <th>2</th>\n",
              "      <td>2015-08-09</td>\n",
              "      <td>0.706136</td>\n",
              "      <td>0.879810</td>\n",
              "      <td>0.629191</td>\n",
              "      <td>0.701897</td>\n",
              "      <td>0.701897</td>\n",
              "      <td>532170.0</td>\n",
              "      <td>-0.006003</td>\n",
              "      <td>0.354916</td>\n",
              "    </tr>\n",
              "    <tr>\n",
              "      <th>3</th>\n",
              "      <td>2015-08-10</td>\n",
              "      <td>0.713989</td>\n",
              "      <td>0.729854</td>\n",
              "      <td>0.636546</td>\n",
              "      <td>0.708448</td>\n",
              "      <td>0.708448</td>\n",
              "      <td>405283.0</td>\n",
              "      <td>-0.007761</td>\n",
              "      <td>0.130685</td>\n",
              "    </tr>\n",
              "    <tr>\n",
              "      <th>4</th>\n",
              "      <td>2015-08-11</td>\n",
              "      <td>0.708087</td>\n",
              "      <td>1.131410</td>\n",
              "      <td>0.663235</td>\n",
              "      <td>1.067860</td>\n",
              "      <td>1.067860</td>\n",
              "      <td>1463100.0</td>\n",
              "      <td>0.508092</td>\n",
              "      <td>0.661183</td>\n",
              "    </tr>\n",
              "  </tbody>\n",
              "</table>\n",
              "</div>"
            ],
            "text/plain": [
              "        Date      Open      High  ...     Volume  day_diff  volatility\n",
              "0 2015-08-07  2.831620  3.536610  ...   164329.0 -0.021013    0.358625\n",
              "1 2015-08-08  2.793760  2.798810  ...   674188.0 -0.730354    0.745979\n",
              "2 2015-08-09  0.706136  0.879810  ...   532170.0 -0.006003    0.354916\n",
              "3 2015-08-10  0.713989  0.729854  ...   405283.0 -0.007761    0.130685\n",
              "4 2015-08-11  0.708087  1.131410  ...  1463100.0  0.508092    0.661183\n",
              "\n",
              "[5 rows x 9 columns]"
            ]
          },
          "metadata": {
            "tags": []
          },
          "execution_count": 141
        }
      ]
    },
    {
      "cell_type": "code",
      "metadata": {
        "id": "6U7YQ0JGtirH"
      },
      "source": [
        "model_data = eth_market_info.sort_values(by='Date')\n",
        "training_set_btc = btc_market_info.sort_values(by='Date')\n",
        "training_set_btc = training_set_btc.drop('Date', 1)\n",
        "# we don't need the date columns anymore\n",
        "training_set, test_set = model_data[model_data['Date']<split_date], model_data[model_data['Date']>=split_date]\n",
        "training_set = training_set.drop('Date', 1)\n",
        "test_set = test_set.drop('Date', 1)"
      ],
      "execution_count": 117,
      "outputs": []
    },
    {
      "cell_type": "code",
      "metadata": {
        "id": "9qehKVb1k73Q"
      },
      "source": [
        "training_set_btc = training_set_btc[0:1577:1]"
      ],
      "execution_count": 118,
      "outputs": []
    },
    {
      "cell_type": "code",
      "metadata": {
        "id": "IYqmDmHutlUS"
      },
      "source": [
        "window_len = 10"
      ],
      "execution_count": 119,
      "outputs": []
    },
    {
      "cell_type": "code",
      "metadata": {
        "id": "UdhDA4iatner"
      },
      "source": [
        "LSTM_training_inputs = []\n",
        "for i in range(len(training_set)-window_len):\n",
        "    temp_set = training_set[i:(i+window_len)].copy()\n",
        "    for col in ['Close','Volume']:\n",
        "        temp_set.loc[:, col] = temp_set[col]/temp_set[col].iloc[0] - 1\n",
        "    LSTM_training_inputs.append(temp_set)\n",
        "LSTM_training_outputs = (training_set['Close'][window_len:].values/training_set['Close'][:-window_len].values)-1"
      ],
      "execution_count": 120,
      "outputs": []
    },
    {
      "cell_type": "code",
      "metadata": {
        "id": "xgCWQdWpbly2"
      },
      "source": [
        "LSTM_training_inputs_btc = []\n",
        "for i in range(len(training_set_btc)-window_len):\n",
        "    temp_set = training_set_btc[i:(i+window_len)].copy()\n",
        "    for col in ['Close','Volume']:\n",
        "        temp_set.loc[:, col] = temp_set[col]/temp_set[col].iloc[0] - 1\n",
        "    LSTM_training_inputs_btc.append(temp_set)\n",
        "LSTM_training_outputs_btc = (training_set_btc['Close'][window_len:].values/training_set_btc['Close'][:-window_len].values)-1"
      ],
      "execution_count": 121,
      "outputs": []
    },
    {
      "cell_type": "code",
      "metadata": {
        "id": "BSAgwiYPtpF3"
      },
      "source": [
        "LSTM_test_inputs = []\n",
        "for i in range(len(test_set)-window_len):\n",
        "    temp_set = test_set[i:(i+window_len)].copy()\n",
        "    for col in ['Close','Volume']:\n",
        "        temp_set.loc[:, col] = temp_set[col]/temp_set[col].iloc[0] - 1\n",
        "    LSTM_test_inputs.append(temp_set)\n",
        "LSTM_test_outputs = (test_set['Close'][window_len:].values/test_set['Close'][:-window_len].values)-1"
      ],
      "execution_count": 122,
      "outputs": []
    },
    {
      "cell_type": "code",
      "metadata": {
        "id": "bdQP7BfjtxWz"
      },
      "source": [
        "# I find it easier to work with numpy arrays rather than pandas dataframes\n",
        "# especially as we now only have numerical data\n",
        "LSTM_training_inputs = [np.array(LSTM_training_input) for LSTM_training_input in LSTM_training_inputs]\n",
        "LSTM_training_inputs = np.array(LSTM_training_inputs)\n",
        "\n",
        "LSTM_training_inputs_btc = [np.array(LSTM_training_input_btc) for LSTM_training_input_btc in LSTM_training_inputs_btc]\n",
        "LSTM_training_inputs_btc = np.array(LSTM_training_inputs_btc)\n",
        "\n",
        "LSTM_test_inputs = [np.array(LSTM_test_inputs) for LSTM_test_inputs in LSTM_test_inputs]\n",
        "LSTM_test_inputs = np.array(LSTM_test_inputs)"
      ],
      "execution_count": 123,
      "outputs": []
    },
    {
      "cell_type": "code",
      "metadata": {
        "id": "SyCBFuRuty3Y"
      },
      "source": [
        "# import the relevant Keras modules\n",
        "from keras.models import Sequential, Model\n",
        "from keras.layers import Activation, Dense\n",
        "from keras.layers import LSTM\n",
        "from keras.layers import Dropout\n",
        "from keras.layers.merge import concatenate\n",
        "\n",
        "def build_model(inputs, output_size, neurons, activ_func=\"linear\",\n",
        "                dropout=0.25, loss=\"mae\", optimizer=\"adam\"):\n",
        "    model1 = Sequential()\n",
        "    model1.add(LSTM(neurons, input_shape=(inputs.shape[1], inputs.shape[2]),return_sequences= True))\n",
        "    model1.add(LSTM(neurons, input_shape=(inputs.shape[1], inputs.shape[2]),return_sequences= True))\n",
        "    model1.add(LSTM(neurons, input_shape=(inputs.shape[1], inputs.shape[2]),return_sequences= True))\n",
        "\n",
        "    model2 = Sequential()\n",
        "    model2.add(LSTM(neurons, input_shape=(inputs.shape[1], inputs.shape[2]), return_sequences= True))\n",
        "    model2.add(LSTM(neurons, input_shape=(inputs.shape[1], inputs.shape[2]), return_sequences= True))\n",
        "    model2.add(LSTM(neurons, input_shape=(inputs.shape[1], inputs.shape[2]), return_sequences= True))\n",
        "    \n",
        "    model_concat = concatenate([model1.output, model2.output], axis=-1)\n",
        "    model_concat = Dense(1, activation='softmax')(model_concat)\n",
        "    model = Model(inputs=[model1.input, model2.input], outputs=model_concat)\n",
        "    model.compile(loss=loss, optimizer=optimizer)\n",
        "\n",
        "    return model"
      ],
      "execution_count": 135,
      "outputs": []
    },
    {
      "cell_type": "code",
      "metadata": {
        "colab": {
          "base_uri": "https://localhost:8080/"
        },
        "id": "E7TpZ2sSuvXr",
        "outputId": "03ca31d2-6308-4ee5-9231-b9505d6c9ab5"
      },
      "source": [
        "# random seed for reproducibility\n",
        "np.random.seed(202)\n",
        "# initialise model architecture\n",
        "conc_model = build_model(LSTM_training_inputs, output_size=1, neurons = 20)\n",
        "# model output is next price normalised to 10th previous closing price\n",
        "LSTM_training_outputs = (training_set['Close'][window_len:].values/training_set['Close'][:-window_len].values)-1\n",
        "LSTM_training_outputs_btc = (training_set_btc['Close'][window_len:].values/training_set_btc['Close'][:-window_len].values)-1\n",
        "# train model on data\n",
        "# note: eth_history contains information on the training error per epoch\n",
        "eth_history = conc_model.fit([LSTM_training_inputs, LSTM_training_inputs_btc], [LSTM_training_outputs, LSTM_training_outputs_btc], \n",
        "                            epochs=50, batch_size=64, verbose=2, shuffle=True)"
      ],
      "execution_count": 138,
      "outputs": [
        {
          "output_type": "stream",
          "text": [
            "Epoch 1/50\n",
            "25/25 - 9s - loss: 0.9474\n",
            "Epoch 2/50\n",
            "25/25 - 0s - loss: 0.9474\n",
            "Epoch 3/50\n",
            "25/25 - 0s - loss: 0.9474\n",
            "Epoch 4/50\n",
            "25/25 - 0s - loss: 0.9474\n",
            "Epoch 5/50\n",
            "25/25 - 0s - loss: 0.9474\n",
            "Epoch 6/50\n",
            "25/25 - 0s - loss: 0.9474\n",
            "Epoch 7/50\n",
            "25/25 - 0s - loss: 0.9474\n",
            "Epoch 8/50\n",
            "25/25 - 0s - loss: 0.9474\n",
            "Epoch 9/50\n",
            "25/25 - 0s - loss: 0.9474\n",
            "Epoch 10/50\n",
            "25/25 - 0s - loss: 0.9474\n",
            "Epoch 11/50\n",
            "25/25 - 0s - loss: 0.9474\n",
            "Epoch 12/50\n",
            "25/25 - 0s - loss: 0.9474\n",
            "Epoch 13/50\n",
            "25/25 - 0s - loss: 0.9474\n",
            "Epoch 14/50\n",
            "25/25 - 0s - loss: 0.9474\n",
            "Epoch 15/50\n",
            "25/25 - 0s - loss: 0.9474\n",
            "Epoch 16/50\n",
            "25/25 - 0s - loss: 0.9474\n",
            "Epoch 17/50\n",
            "25/25 - 0s - loss: 0.9474\n",
            "Epoch 18/50\n",
            "25/25 - 0s - loss: 0.9474\n",
            "Epoch 19/50\n",
            "25/25 - 0s - loss: 0.9474\n",
            "Epoch 20/50\n",
            "25/25 - 0s - loss: 0.9474\n",
            "Epoch 21/50\n",
            "25/25 - 0s - loss: 0.9474\n",
            "Epoch 22/50\n",
            "25/25 - 0s - loss: 0.9474\n",
            "Epoch 23/50\n",
            "25/25 - 0s - loss: 0.9474\n",
            "Epoch 24/50\n",
            "25/25 - 0s - loss: 0.9474\n",
            "Epoch 25/50\n",
            "25/25 - 0s - loss: 0.9474\n",
            "Epoch 26/50\n",
            "25/25 - 0s - loss: 0.9474\n",
            "Epoch 27/50\n",
            "25/25 - 0s - loss: 0.9474\n",
            "Epoch 28/50\n",
            "25/25 - 0s - loss: 0.9474\n",
            "Epoch 29/50\n",
            "25/25 - 0s - loss: 0.9474\n",
            "Epoch 30/50\n",
            "25/25 - 0s - loss: 0.9474\n",
            "Epoch 31/50\n",
            "25/25 - 0s - loss: 0.9474\n",
            "Epoch 32/50\n",
            "25/25 - 0s - loss: 0.9474\n",
            "Epoch 33/50\n",
            "25/25 - 0s - loss: 0.9474\n",
            "Epoch 34/50\n",
            "25/25 - 0s - loss: 0.9474\n",
            "Epoch 35/50\n",
            "25/25 - 0s - loss: 0.9474\n",
            "Epoch 36/50\n",
            "25/25 - 0s - loss: 0.9474\n",
            "Epoch 37/50\n",
            "25/25 - 0s - loss: 0.9474\n",
            "Epoch 38/50\n",
            "25/25 - 0s - loss: 0.9474\n",
            "Epoch 39/50\n",
            "25/25 - 0s - loss: 0.9474\n",
            "Epoch 40/50\n",
            "25/25 - 0s - loss: 0.9474\n",
            "Epoch 41/50\n",
            "25/25 - 0s - loss: 0.9474\n",
            "Epoch 42/50\n",
            "25/25 - 0s - loss: 0.9474\n",
            "Epoch 43/50\n",
            "25/25 - 0s - loss: 0.9474\n",
            "Epoch 44/50\n",
            "25/25 - 0s - loss: 0.9474\n",
            "Epoch 45/50\n",
            "25/25 - 0s - loss: 0.9474\n",
            "Epoch 46/50\n",
            "25/25 - 0s - loss: 0.9474\n",
            "Epoch 47/50\n",
            "25/25 - 0s - loss: 0.9474\n",
            "Epoch 48/50\n",
            "25/25 - 0s - loss: 0.9474\n",
            "Epoch 49/50\n",
            "25/25 - 0s - loss: 0.9474\n",
            "Epoch 50/50\n",
            "25/25 - 0s - loss: 0.9474\n"
          ],
          "name": "stdout"
        }
      ]
    },
    {
      "cell_type": "code",
      "metadata": {
        "id": "EqRlkflddiCt",
        "outputId": "5995acdf-d445-48e7-cb5d-225977e4a5d2",
        "colab": {
          "base_uri": "https://localhost:8080/"
        }
      },
      "source": [
        "len(LSTM_training_inputs)\n"
      ],
      "execution_count": 71,
      "outputs": [
        {
          "output_type": "execute_result",
          "data": {
            "text/plain": [
              "1567"
            ]
          },
          "metadata": {
            "tags": []
          },
          "execution_count": 71
        }
      ]
    },
    {
      "cell_type": "code",
      "metadata": {
        "id": "dBOyBWb1eV4w",
        "outputId": "2e67b146-5e20-469b-bd53-be2ecdfbdfe0",
        "colab": {
          "base_uri": "https://localhost:8080/"
        }
      },
      "source": [
        "len(LSTM_training_inputs_btc)\n"
      ],
      "execution_count": 73,
      "outputs": [
        {
          "output_type": "execute_result",
          "data": {
            "text/plain": [
              "1567"
            ]
          },
          "metadata": {
            "tags": []
          },
          "execution_count": 73
        }
      ]
    },
    {
      "cell_type": "code",
      "metadata": {
        "id": "f_5aAnwCeXqG",
        "outputId": "dba1dad3-3401-45b4-8783-b8ae67a36794",
        "colab": {
          "base_uri": "https://localhost:8080/"
        }
      },
      "source": [
        "len(LSTM_training_outputs)"
      ],
      "execution_count": 72,
      "outputs": [
        {
          "output_type": "execute_result",
          "data": {
            "text/plain": [
              "1567"
            ]
          },
          "metadata": {
            "tags": []
          },
          "execution_count": 72
        }
      ]
    },
    {
      "cell_type": "code",
      "metadata": {
        "id": "Z3Jm8fC5eZwO",
        "outputId": "7b2826ff-1358-43f4-e994-e213df22393e",
        "colab": {
          "base_uri": "https://localhost:8080/"
        }
      },
      "source": [
        "len(LSTM_training_outputs_btc)"
      ],
      "execution_count": 74,
      "outputs": [
        {
          "output_type": "execute_result",
          "data": {
            "text/plain": [
              "1567"
            ]
          },
          "metadata": {
            "tags": []
          },
          "execution_count": 74
        }
      ]
    },
    {
      "cell_type": "code",
      "metadata": {
        "colab": {
          "base_uri": "https://localhost:8080/",
          "height": 610
        },
        "id": "TVd5q4yuvjW6",
        "outputId": "9d07881f-044e-410f-ad93-53caacba4061"
      },
      "source": [
        "fig, ax1 = plt.subplots(1,1)\n",
        "\n",
        "ax1.plot(eth_history.epoch, eth_history.history['loss'])\n",
        "ax1.set_title('Training Error')\n",
        "\n",
        "if conc_model.loss == 'mae':\n",
        "    ax1.set_ylabel('Mean Absolute Error (MAE)',fontsize=12)\n",
        "# just in case you decided to change the model loss calculation\n",
        "else:\n",
        "    ax1.set_ylabel('Model Loss',fontsize=12)\n",
        "ax1.set_xlabel('# Epochs',fontsize=12)\n",
        "fig.set_size_inches(18.5, 10.5)\n",
        "plt.show()"
      ],
      "execution_count": 139,
      "outputs": [
        {
          "output_type": "display_data",
          "data": {
            "image/png": "[encoded data removed]",
            "text/plain": [
              "<Figure size 1332x756 with 1 Axes>"
            ]
          },
          "metadata": {
            "tags": [],
            "needs_background": "light"
          }
        }
      ]
    }
  ]
}