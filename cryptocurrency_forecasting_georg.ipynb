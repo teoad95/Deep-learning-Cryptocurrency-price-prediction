{
 "cells": [
  {
   "cell_type": "markdown",
   "metadata": {},
   "source": [
    "##Data preparation"
   ]
  },
  {
   "cell_type": "code",
   "execution_count": 1,
   "metadata": {},
   "outputs": [],
   "source": [
    "import pandas as pd\n",
    "import matplotlib.pyplot as plt\n",
    "import numpy as np\n",
    "import os"
   ]
  },
  {
   "cell_type": "markdown",
   "metadata": {},
   "source": [
    "Try to get data using Coinmarket API:"
   ]
  },
  {
   "cell_type": "code",
   "execution_count": 74,
   "metadata": {},
   "outputs": [],
   "source": [
    "#Since this API is not free, no data is returned.\n",
    "#So, don't run it\n",
    "import requests\n",
    "\n",
    "key = '0774dc30-e003-4388-9697-e40bd431af1e'\n",
    "\n",
    "url = \"https://pro-api.coinmarketcap.com/v1/cryptocurrency/listings/latest\"\n",
    "full_url = requests.get(url + \"?start=20130428&limit=5000&convert=USD&CMC_PRO_API_KEY=\" + key)"
   ]
  },
  {
   "cell_type": "markdown",
   "metadata": {},
   "source": [
    "#Load locally stored csv with data from yahoo (BTC-USD since 9/14/2014):"
   ]
  },
  {
   "cell_type": "code",
   "execution_count": 147,
   "metadata": {},
   "outputs": [],
   "source": [
    "path = os.getcwd() \n",
    "bitcoin_market_info = pd.read_csv(path + \"/exper_files/datasets/BTC-USD_yahoo.csv\")"
   ]
  },
  {
   "cell_type": "markdown",
   "metadata": {},
   "source": [
    "#Load locally stored csv with data from yahoo (ETH-USD since 8/7/2015):"
   ]
  },
  {
   "cell_type": "code",
   "execution_count": 148,
   "metadata": {},
   "outputs": [],
   "source": [
    "path = os.getcwd() \n",
    "eth_market_info = pd.read_csv(path + \"/exper_files/datasets/ETH-USD.csv\")\n",
    "eth_market_info['Date'] = pd.to_datetime(eth_market_info['Date'])\n",
    "\n",
    "#Drop all data of bitcoin from 9/14/2014 to 8/7/2015 in order to have the same number of rows (bitcoin and ethereum):\n",
    "spec_date = pd.to_datetime('2015-8-7')\n",
    "\n",
    "bitcoin_market_info['Date'] = pd.to_datetime(bitcoin_market_info['Date'])\n",
    "bitcoin_market_info = bitcoin_market_info[bitcoin_market_info['Date'] >= spec_date]\n",
    "\n",
    "#Concatanate two datasets\n",
    "#But first rename the columns\n",
    "eth_market_info = eth_market_info.rename(columns={'Close':'eth_Close', 'Open':'eth_Open', 'High':'eth_High', \\\n",
    "                                                  'Low':'eth_Low', 'Adj Close':'eth_Adj_Close', 'Volume':'eth_Volume'})\n",
    "\n",
    "bitcoin_market_info = bitcoin_market_info.rename(columns={'Close':'bit_Close', 'Open':'bit_Open', 'High':'bit_High', \\\n",
    "                                                  'Low':'bit_Low', 'Adj Close':'bit_Adj_Close', 'Volume':'bit_Volume'})\n",
    "\n",
    "bitcoin_market_info = ((bitcoin_market_info.drop(['Date'], axis=1)).reset_index()).drop(['index'], axis=1)\n",
    "\n",
    "bitcoin_market_info = pd.concat([bitcoin_market_info, eth_market_info], axis=1)"
   ]
  },
  {
   "cell_type": "markdown",
   "metadata": {},
   "source": [
    "Convert 'Date' column to type 'datetime64'"
   ]
  },
  {
   "cell_type": "code",
   "execution_count": 91,
   "metadata": {},
   "outputs": [],
   "source": [
    "bitcoin_market_info['Date'] = pd.to_datetime(bitcoin_market_info['Date'])"
   ]
  },
  {
   "cell_type": "markdown",
   "metadata": {},
   "source": [
    "Some values are null, so lets fill them with the values of the previous day:"
   ]
  },
  {
   "cell_type": "code",
   "execution_count": 149,
   "metadata": {},
   "outputs": [],
   "source": [
    "bitcoin_market_info.fillna(method='ffill', inplace=True)"
   ]
  },
  {
   "cell_type": "markdown",
   "metadata": {},
   "source": [
    "Compute the average 'Close' value for the last 7-days and 30-days(month) (finally these features return worse results): "
   ]
  },
  {
   "cell_type": "code",
   "execution_count": 60,
   "metadata": {},
   "outputs": [],
   "source": [
    "\"\"\"temp = bitcoin_market_info.copy()\n",
    "\n",
    "#Drop the first 30 days to be able to compute average of month for the rows of the table\n",
    "temp = temp[29:]\n",
    "\n",
    "temp['mean_7days_Close'] = bitcoin_market_info['Close'].rolling(window=7).mean()\n",
    "\n",
    "temp['mean_month_Close'] = bitcoin_market_info['Close'].rolling(window=30).mean()\n",
    "\n",
    "bitcoin_market_info = temp.copy()\"\"\""
   ]
  },
  {
   "cell_type": "markdown",
   "metadata": {},
   "source": [
    "Compute the standard deviation of 'Close' value for the last 7-days and 30-days(month) (finally these features return worse results):"
   ]
  },
  {
   "cell_type": "code",
   "execution_count": 78,
   "metadata": {},
   "outputs": [],
   "source": [
    "\"\"\"temp = bitcoin_market_info.copy()\n",
    "\n",
    "#Drop the first 30 days to be able to compute average of month for the rows of the table\n",
    "temp = temp[29:]\n",
    "\n",
    "temp['std_7days_Close'] = bitcoin_market_info['Close'].rolling(window=7).std()\n",
    "\n",
    "temp['std_month_Close'] = bitcoin_market_info['Close'].rolling(window=30).std()\n",
    "\n",
    "bitcoin_market_info = temp.copy()\"\"\""
   ]
  },
  {
   "cell_type": "markdown",
   "metadata": {},
   "source": [
    "Create new columns 'close_off_high' and 'volatility' in order to make predictions more accurate:"
   ]
  },
  {
   "cell_type": "code",
   "execution_count": 150,
   "metadata": {},
   "outputs": [],
   "source": [
    "\"\"\"kwards = {'close_off_high': lambda x: 2 * (x['High'] - x['Close']) / (x['High'] - x['Low']) - 1,\n",
    "          'volatility': lambda x: (x['High'] - x['Low']) / (x['Open'])}\"\"\"\n",
    "\n",
    "kwards = {'eth_close_off_high': lambda x: 2 * (x['eth_High'] - x['eth_Close']) / (x['eth_High'] - x['eth_Low']) - 1,\n",
    "          'eth_volatility': lambda x: (x['eth_High'] - x['eth_Low']) / (x['eth_Open']),\n",
    "          'bit_close_off_high': lambda x: 2 * (x['bit_High'] - x['bit_Close']) / (x['bit_High'] - x['bit_Low']) - 1,\n",
    "          'bit_volatility': lambda x: (x['bit_High'] - x['bit_Low']) / (x['bit_Open'])\n",
    "          }\n",
    "\n",
    "bitcoin_market_info = bitcoin_market_info.assign(**kwards)"
   ]
  },
  {
   "cell_type": "markdown",
   "metadata": {},
   "source": [
    "#Split data"
   ]
  },
  {
   "cell_type": "code",
   "execution_count": 151,
   "metadata": {},
   "outputs": [],
   "source": [
    "percent_train_set = 0.75\n",
    "split_date = bitcoin_market_info.iloc[round(bitcoin_market_info.shape[0] * percent_train_set)]['Date']\n",
    "\n",
    "training_set, val_test_set = bitcoin_market_info[bitcoin_market_info['Date'] < split_date], \\\n",
    "                         bitcoin_market_info[bitcoin_market_info['Date'] >= split_date]\n",
    "\n",
    "percent_val_set = 0.5\n",
    "split_date_val = val_test_set.iloc[round(val_test_set.shape[0] * percent_val_set)]['Date']\n",
    "\n",
    "val_set, test_set = val_test_set[val_test_set['Date'] < split_date_val], \\\n",
    "                    val_test_set[val_test_set['Date'] >= split_date_val]\n"
   ]
  },
  {
   "cell_type": "markdown",
   "metadata": {},
   "source": [
    "#Normalize inputs in windows"
   ]
  },
  {
   "cell_type": "code",
   "execution_count": 195,
   "metadata": {},
   "outputs": [],
   "source": [
    "window_len = 10\n",
    "LSTM_training_inputs = []\n",
    "for i in range(len(training_set) - window_len):\n",
    "    temp_set = training_set[i:(i + window_len)].copy()\n",
    "    temp_set = temp_set.drop(['Date'], axis=1)\n",
    "    temp_set = temp_set.drop(['bit_Open'], axis=1)\n",
    "    temp_set = temp_set.drop(['bit_High'], axis=1)\n",
    "    temp_set = temp_set.drop(['bit_Low'], axis=1)\n",
    "    temp_set = temp_set.drop(['bit_Adj_Close'], axis=1)\n",
    "    temp_set = temp_set.drop(['eth_Open'], axis=1)\n",
    "    temp_set = temp_set.drop(['eth_High'], axis=1)\n",
    "    temp_set = temp_set.drop(['eth_Low'], axis=1)\n",
    "    temp_set = temp_set.drop(['eth_Adj_Close'], axis=1)\n",
    "    \n",
    "\n",
    "    for col in ['eth_Close', 'eth_Volume', 'bit_Close', 'bit_Volume']:\n",
    "        temp_set[:][col] = temp_set[col] / temp_set[col].iloc[0] - 1\n",
    "\n",
    "    LSTM_training_inputs.append(temp_set)\n",
    "\n",
    "LSTM_training_outputs = (training_set['bit_Close'][window_len:].values / training_set['bit_Close'][:-window_len].values) - 1\n",
    "\n",
    "\n",
    "LSTM_val_inputs=[]\n",
    "for i in range(len(val_set) - window_len):\n",
    "    temp_set = training_set[i:(i + window_len)].copy()\n",
    "    temp_set = temp_set.drop(['Date'], axis=1)\n",
    "    temp_set = temp_set.drop(['bit_Open'], axis=1)\n",
    "    temp_set = temp_set.drop(['bit_High'], axis=1)\n",
    "    temp_set = temp_set.drop(['bit_Low'], axis=1)\n",
    "    temp_set = temp_set.drop(['bit_Adj_Close'], axis=1)\n",
    "    temp_set = temp_set.drop(['eth_Open'], axis=1)\n",
    "    temp_set = temp_set.drop(['eth_High'], axis=1)\n",
    "    temp_set = temp_set.drop(['eth_Low'], axis=1)\n",
    "    temp_set = temp_set.drop(['eth_Adj_Close'], axis=1)\n",
    "    \n",
    "    for col in ['eth_Close', 'eth_Volume', 'bit_Close', 'bit_Volume']:\n",
    "        temp_set[:][col] = temp_set[col] / temp_set[col].iloc[0] - 1\n",
    "        \n",
    "    LSTM_val_inputs.append(temp_set)\n",
    "\n",
    "LSTM_val_outputs = (val_set['bit_Close'][window_len:].values / val_set['bit_Close'][:-window_len].values) - 1\n",
    "\n",
    "\n",
    "\n",
    "LSTM_test_inputs = []\n",
    "for i in range(len(test_set) - window_len):\n",
    "    temp_set = training_set[i:(i + window_len)].copy()\n",
    "    temp_set = temp_set.drop(['Date'], axis=1)\n",
    "    temp_set = temp_set.drop(['bit_Open'], axis=1)\n",
    "    temp_set = temp_set.drop(['bit_High'], axis=1)\n",
    "    temp_set = temp_set.drop(['bit_Low'], axis=1)\n",
    "    temp_set = temp_set.drop(['bit_Adj_Close'], axis=1)\n",
    "    temp_set = temp_set.drop(['eth_Open'], axis=1)\n",
    "    temp_set = temp_set.drop(['eth_High'], axis=1)\n",
    "    temp_set = temp_set.drop(['eth_Low'], axis=1)\n",
    "    temp_set = temp_set.drop(['eth_Adj_Close'], axis=1)\n",
    "\n",
    "    for col in ['eth_Close', 'eth_Volume', 'bit_Close', 'bit_Volume']:\n",
    "        temp_set[:][col] = temp_set[col] / temp_set[col].iloc[0] - 1\n",
    "\n",
    "    LSTM_test_inputs.append(temp_set)\n",
    "\n",
    "LSTM_test_outputs = (test_set['bit_Close'][window_len:].values / test_set['bit_Close'][:-window_len].values) - 1\n"
   ]
  },
  {
   "cell_type": "markdown",
   "metadata": {},
   "source": [
    "Convert DataFrames to numpy arrays"
   ]
  },
  {
   "cell_type": "code",
   "execution_count": 196,
   "metadata": {},
   "outputs": [],
   "source": [
    "LSTM_training_inputs = [np.array(LSTM_training_input) for LSTM_training_input in LSTM_training_inputs]\n",
    "LSTM_training_inputs = np.array(LSTM_training_inputs)\n",
    "\n",
    "LSTM_val_inputs = [np.array(LSTM_val_input) for LSTM_val_input in LSTM_val_inputs]\n",
    "LSTM_val_inputs = np.array(LSTM_val_inputs)\n",
    "\n",
    "LSTM_test_inputs = [np.array(LSTM_test_input) for LSTM_test_input in LSTM_test_inputs]\n",
    "LSTM_test_inputs = np.array(LSTM_test_inputs)"
   ]
  },
  {
   "cell_type": "markdown",
   "metadata": {},
   "source": [
    "##Define LSTM model"
   ]
  },
  {
   "cell_type": "code",
   "execution_count": 256,
   "metadata": {},
   "outputs": [],
   "source": [
    "from keras.models import Sequential\n",
    "from keras.layers import Activation, Dense\n",
    "from keras.layers import LSTM\n",
    "from keras.layers import Dropout\n",
    "import tensorflow as tf\n",
    "\n",
    "\n",
    "def build_model(inputs, output_size, neurons, activ_func=\"linear\",\n",
    "                dropout=0.25, loss=\"mae\", optimizer=\"adam\"):\n",
    "    model = Sequential()\n",
    "    model.add(LSTM(neurons, input_shape=(inputs.shape[1], inputs.shape[2])))\n",
    "   \n",
    "    \n",
    "    model.add(Dropout(dropout))\n",
    "    \n",
    "    model.add(Dense(units=output_size))\n",
    "    model.add(Activation(activ_func))\n",
    "\n",
    "    model.compile(loss=loss, optimizer=optimizer)\n",
    "    return model"
   ]
  },
  {
   "cell_type": "markdown",
   "metadata": {},
   "source": [
    "#Build and train LSTM model for one-day-ahead predictions"
   ]
  },
  {
   "cell_type": "code",
   "execution_count": 11,
   "metadata": {},
   "outputs": [],
   "source": [
    "np.random.seed(202)\n",
    "\n",
    "epochs = 20\n",
    "batch_size = 1\n",
    "neurons = 20"
   ]
  },
  {
   "cell_type": "code",
   "execution_count": 15,
   "metadata": {},
   "outputs": [
    {
     "name": "stdout",
     "output_type": "stream",
     "text": [
      "Epoch 1/20\n",
      "1779/1779 [==============================] - 5s 2ms/step - loss: 0.3654 - val_loss: 0.1207\n",
      "Epoch 2/20\n",
      "1779/1779 [==============================] - 4s 2ms/step - loss: 0.0979 - val_loss: 0.1015\n",
      "Epoch 3/20\n",
      "1779/1779 [==============================] - 4s 2ms/step - loss: 0.0950 - val_loss: 0.0967\n",
      "Epoch 4/20\n",
      "1779/1779 [==============================] - 4s 2ms/step - loss: 0.0934 - val_loss: 0.0967\n",
      "Epoch 5/20\n",
      "1779/1779 [==============================] - 4s 2ms/step - loss: 0.0939 - val_loss: 0.0955\n",
      "Epoch 6/20\n",
      "1779/1779 [==============================] - 4s 2ms/step - loss: 0.0930 - val_loss: 0.0955\n",
      "Epoch 7/20\n",
      "1779/1779 [==============================] - 4s 2ms/step - loss: 0.0941 - val_loss: 0.0958\n",
      "Epoch 8/20\n",
      "1779/1779 [==============================] - 4s 2ms/step - loss: 0.0982 - val_loss: 0.0953\n",
      "Epoch 9/20\n",
      "1779/1779 [==============================] - 4s 2ms/step - loss: 0.0975 - val_loss: 0.0954\n",
      "Epoch 10/20\n",
      "1779/1779 [==============================] - 4s 2ms/step - loss: 0.0903 - val_loss: 0.0959\n",
      "Epoch 11/20\n",
      "1779/1779 [==============================] - 4s 2ms/step - loss: 0.0974 - val_loss: 0.0958\n",
      "Epoch 12/20\n",
      "1779/1779 [==============================] - 4s 2ms/step - loss: 0.0991 - val_loss: 0.0956\n",
      "Epoch 13/20\n",
      "1779/1779 [==============================] - 4s 2ms/step - loss: 0.0929 - val_loss: 0.0959\n",
      "Epoch 14/20\n",
      "1779/1779 [==============================] - 4s 2ms/step - loss: 0.0940 - val_loss: 0.0974\n",
      "Epoch 15/20\n",
      "1779/1779 [==============================] - 4s 2ms/step - loss: 0.0948 - val_loss: 0.0970\n",
      "Epoch 16/20\n",
      "1779/1779 [==============================] - 4s 2ms/step - loss: 0.0961 - val_loss: 0.0959\n",
      "Epoch 17/20\n",
      "1779/1779 [==============================] - 4s 2ms/step - loss: 0.0928 - val_loss: 0.0963\n",
      "Epoch 18/20\n",
      "1779/1779 [==============================] - 4s 2ms/step - loss: 0.0937 - val_loss: 0.0972\n",
      "Epoch 19/20\n",
      "1779/1779 [==============================] - 4s 2ms/step - loss: 0.0961 - val_loss: 0.0961\n",
      "Epoch 20/20\n",
      "1779/1779 [==============================] - 4s 2ms/step - loss: 0.0934 - val_loss: 0.0960\n"
     ]
    }
   ],
   "source": [
    "btcoin_model = build_model(LSTM_training_inputs, output_size=1, neurons=neurons)\n",
    "hist = btcoin_model.fit(LSTM_training_inputs, LSTM_training_outputs, validation_data=(LSTM_val_inputs, LSTM_val_outputs),\n",
    "                        epochs=epochs, batch_size=1, verbose=batch_size, shuffle=True)"
   ]
  },
  {
   "cell_type": "markdown",
   "metadata": {},
   "source": [
    "Plot MAE"
   ]
  },
  {
   "cell_type": "code",
   "execution_count": null,
   "metadata": {},
   "outputs": [],
   "source": [
    "fig, ax1 = plt.subplots(1, 1)\n",
    "\n",
    "ax1.plot(hist.epoch, hist.history['loss'], color='b', label='Loss')\n",
    "ax1.plot(hist.epoch, hist.history['val_loss'], color='orange', label='Val_loss')\n",
    "ax1.set_xticks(range(0, len(hist.epoch)))\n",
    "ax1.set_title('Training Error')\n",
    "ax1.set_ylabel('Mean Absolute Error (MAE)', fontsize=12)\n",
    "ax1.set_xlabel('#Epoch', fontsize=12)\n",
    "plt.legend()\n",
    "plt.show()"
   ]
  },
  {
   "cell_type": "markdown",
   "metadata": {},
   "source": [
    "Plot predictions side-by-side with actual values for training set"
   ]
  },
  {
   "cell_type": "code",
   "execution_count": 19,
   "metadata": {},
   "outputs": [],
   "source": [
    "from mpl_toolkits.axes_grid1.inset_locator import zoomed_inset_axes\n",
    "from mpl_toolkits.axes_grid1.inset_locator import mark_inset\n",
    "import datetime\n"
   ]
  },
  {
   "cell_type": "code",
   "execution_count": null,
   "metadata": {},
   "outputs": [],
   "source": [
    "fig, ax1 = plt.subplots(1, 1, figsize=(10,10))\n",
    "\n",
    "# Plot actual values\n",
    "ax1.plot(pd.to_datetime(bitcoin_market_info[bitcoin_market_info['Date'] < split_date]['Date'][window_len:]),\n",
    "         training_set['Close'][window_len:], label='Actual values', color='b')\n",
    "\n",
    "# Plot predicted values\n",
    "ax1.plot(pd.to_datetime(bitcoin_market_info[bitcoin_market_info['Date'] < split_date]['Date'][window_len:]),\n",
    "         ((np.transpose(btcoin_model.predict(LSTM_training_inputs)) + 1) * training_set['Close'].values[:-window_len])[0],\n",
    "         label='Predicted', color='g')\n",
    "\n",
    "# Set plot title\n",
    "ax1.set_title(\"Training Set: Single Timepoint Prediction\")\n",
    "\n",
    "# Set y label of plot\n",
    "ax1.set_ylabel('Bitcoin price ($)', fontsize=12)\n",
    "\n",
    "# Define bbox_to_anchor where MAE will be plotted\n",
    "ax1.legend(loc=2, bbox_to_anchor=(0.1, 1), borderaxespad=0., prop={'size': 14})\n",
    "\n",
    "# Calculate and plot MAE\n",
    "ax1.annotate('MAE: %.4f' % np.mean(np.abs((np.transpose(btcoin_model.predict(LSTM_training_inputs)) + 1) -\n",
    "                                          (training_set['Close'].values[window_len:]) / (\n",
    "                                              training_set['Close'].values[:-window_len]))),\n",
    "             xy=(0.75, 0.9), xycoords='axes fraction',\n",
    "             xytext=(0.75, 0.9), textcoords='axes fraction')\n",
    "\n",
    "# Zoom in plot inside figure\n",
    "axins = zoomed_inset_axes(ax1, 20., loc=10)  # Zoom_factor = 20., location = 10 (which means center)\n",
    "\n",
    "axins.plot(pd.to_datetime(bitcoin_market_info[bitcoin_market_info['Date'] < split_date]['Date'][window_len:]),\n",
    "           training_set['Close'][window_len:], label='Actual values', color='b')\n",
    "\n",
    "axins.plot(pd.to_datetime(bitcoin_market_info[bitcoin_market_info['Date'] < split_date]['Date'][window_len:]),\n",
    "           ((np.transpose(btcoin_model.predict(LSTM_training_inputs)) + 1) * training_set['Close'].values[:-window_len])[0],\n",
    "           label='Predicted', color='g')\n",
    "\n",
    "axins.set_xlim([datetime.date(2016, 12, 1), datetime.date(2017, 2, 1)])\n",
    "axins.set_ylim([700, 1400])\n",
    "axins.set_xticklabels('')\n",
    "\n",
    "mark_inset(ax1, axins, loc1=1, loc2=3, fc='none', ec='0.5')\n",
    "plt.show()"
   ]
  },
  {
   "cell_type": "markdown",
   "metadata": {},
   "source": [
    "Plot predictions side-by-side with actual values for test set"
   ]
  },
  {
   "cell_type": "code",
   "execution_count": null,
   "metadata": {},
   "outputs": [],
   "source": [
    "fig, ax1 = plt.subplots(1, 1, figsize=(10,10))\n",
    "\n",
    "ax1.plot(pd.to_datetime(bitcoin_market_info[bitcoin_market_info['Date'] >= split_date_val]['Date'][window_len:]),\n",
    "         test_set['Close'][window_len:], label='Actual values', color='b')\n",
    "\n",
    "ax1.plot(pd.to_datetime(bitcoin_market_info[bitcoin_market_info['Date'] >= split_date_val]['Date'][window_len:]),\n",
    "         ((np.transpose(btcoin_model.predict(LSTM_test_inputs)) + 1) * test_set['Close'].values[:-window_len])[0],\n",
    "         label='Predicted', color='g')\n",
    "\n",
    "ax1.legend(loc=2, bbox_to_anchor=(0.1, 1), borderaxespad=0., prop={'size': 14})\n",
    "ax1.annotate('MAE: %.4f' % np.mean(np.abs((np.transpose(btcoin_model.predict(LSTM_test_inputs)) + 1) - \\\n",
    "                                          (test_set['Close'].values[window_len:]) / (test_set['Close'].values[:-window_len]))),\n",
    "             xy=(0.65, 0.95), xycoords='axes fraction',\n",
    "             xytext=(0.65, 0.95), textcoords='axes fraction')\n",
    "\n",
    "ax1.set_title('Test Set: Single Timepoint Prediction', fontsize=13)\n",
    "\n",
    "ax1.set_ylabel('Bitcoin Price ($)', fontsize=12)\n",
    "\n",
    "plt.show()"
   ]
  },
  {
   "cell_type": "markdown",
   "metadata": {},
   "source": [
    "#Build and train LSTM model for 5-days-ahead predictions"
   ]
  },
  {
   "cell_type": "markdown",
   "metadata": {},
   "source": [
    "Normalize training outputs: 5 next prices normalized to 10th previous closing price"
   ]
  },
  {
   "cell_type": "code",
   "execution_count": 197,
   "metadata": {},
   "outputs": [],
   "source": [
    "pred_range = 5\n",
    "\n",
    "LSTM_ranged_training_outputs = []\n",
    "for i in range(window_len, len(training_set['bit_Close']) - pred_range):\n",
    "    LSTM_ranged_training_outputs.append((training_set['bit_Close'][i:i+pred_range].values/training_set['bit_Close'][training_set.index[0]+i-window_len]) - 1)\n",
    "\n",
    "LSTM_ranged_training_outputs = np.array(LSTM_ranged_training_outputs)\n",
    "\n",
    "\n",
    "LSTM_ranged_val_outputs = []\n",
    "for i in range(window_len, len(val_set['bit_Close']) - pred_range):\n",
    "    LSTM_ranged_val_outputs.append((val_set['bit_Close'][i:i+pred_range].values/val_set['bit_Close'][val_set.index[0]+i-window_len]) - 1)\n",
    "\n",
    "LSTM_ranged_val_outputs = np.array(LSTM_ranged_val_outputs)"
   ]
  },
  {
   "cell_type": "markdown",
   "metadata": {},
   "source": [
    "Build the model"
   ]
  },
  {
   "cell_type": "code",
   "execution_count": 288,
   "metadata": {},
   "outputs": [],
   "source": [
    "neurons = 50\n",
    "\n",
    "ranged_btcoin_model = build_model(LSTM_training_inputs, output_size=pred_range, neurons=neurons, \\\n",
    "                                  optimizer=tf.keras.optimizers.RMSprop())"
   ]
  },
  {
   "cell_type": "markdown",
   "metadata": {},
   "source": [
    "Train the model"
   ]
  },
  {
   "cell_type": "code",
   "execution_count": 289,
   "metadata": {
    "scrolled": false
   },
   "outputs": [
    {
     "name": "stdout",
     "output_type": "stream",
     "text": [
      "Epoch 1/50\n",
      "25/25 - 2s - loss: 0.1033 - val_loss: 0.1206\n",
      "Epoch 2/50\n",
      "25/25 - 0s - loss: 0.0904 - val_loss: 0.1218\n",
      "Epoch 3/50\n",
      "25/25 - 0s - loss: 0.0816 - val_loss: 0.1110\n",
      "Epoch 4/50\n",
      "25/25 - 0s - loss: 0.0757 - val_loss: 0.1178\n",
      "Epoch 5/50\n",
      "25/25 - 0s - loss: 0.0711 - val_loss: 0.1131\n",
      "Epoch 6/50\n",
      "25/25 - 0s - loss: 0.0671 - val_loss: 0.1116\n",
      "Epoch 7/50\n",
      "25/25 - 0s - loss: 0.0655 - val_loss: 0.1135\n",
      "Epoch 8/50\n",
      "25/25 - 0s - loss: 0.0635 - val_loss: 0.1110\n",
      "Epoch 9/50\n",
      "25/25 - 0s - loss: 0.0628 - val_loss: 0.1185\n",
      "Epoch 10/50\n",
      "25/25 - 0s - loss: 0.0608 - val_loss: 0.1079\n",
      "Epoch 11/50\n",
      "25/25 - 0s - loss: 0.0597 - val_loss: 0.1094\n",
      "Epoch 12/50\n",
      "25/25 - 0s - loss: 0.0595 - val_loss: 0.1136\n",
      "Epoch 13/50\n",
      "25/25 - 0s - loss: 0.0580 - val_loss: 0.1082\n",
      "Epoch 14/50\n",
      "25/25 - 0s - loss: 0.0578 - val_loss: 0.1069\n",
      "Epoch 15/50\n",
      "25/25 - 0s - loss: 0.0563 - val_loss: 0.1147\n",
      "Epoch 16/50\n",
      "25/25 - 0s - loss: 0.0566 - val_loss: 0.1102\n",
      "Epoch 17/50\n",
      "25/25 - 0s - loss: 0.0559 - val_loss: 0.1092\n",
      "Epoch 18/50\n",
      "25/25 - 0s - loss: 0.0551 - val_loss: 0.1113\n",
      "Epoch 19/50\n",
      "25/25 - 0s - loss: 0.0552 - val_loss: 0.1089\n",
      "Epoch 20/50\n",
      "25/25 - 0s - loss: 0.0543 - val_loss: 0.1074\n",
      "Epoch 21/50\n",
      "25/25 - 0s - loss: 0.0538 - val_loss: 0.1094\n",
      "Epoch 22/50\n",
      "25/25 - 0s - loss: 0.0533 - val_loss: 0.1106\n",
      "Epoch 23/50\n",
      "25/25 - 0s - loss: 0.0534 - val_loss: 0.1137\n",
      "Epoch 24/50\n",
      "25/25 - 0s - loss: 0.0531 - val_loss: 0.1088\n",
      "Epoch 25/50\n",
      "25/25 - 0s - loss: 0.0536 - val_loss: 0.1091\n",
      "Epoch 26/50\n",
      "25/25 - 0s - loss: 0.0529 - val_loss: 0.1124\n",
      "Epoch 27/50\n",
      "25/25 - 0s - loss: 0.0521 - val_loss: 0.1107\n",
      "Epoch 28/50\n",
      "25/25 - 0s - loss: 0.0524 - val_loss: 0.1116\n",
      "Epoch 29/50\n",
      "25/25 - 0s - loss: 0.0523 - val_loss: 0.1093\n",
      "Epoch 30/50\n",
      "25/25 - 0s - loss: 0.0524 - val_loss: 0.1097\n",
      "Epoch 31/50\n",
      "25/25 - 0s - loss: 0.0515 - val_loss: 0.1152\n",
      "Epoch 32/50\n",
      "25/25 - 0s - loss: 0.0515 - val_loss: 0.1108\n",
      "Epoch 33/50\n",
      "25/25 - 0s - loss: 0.0513 - val_loss: 0.1111\n",
      "Epoch 34/50\n",
      "25/25 - 0s - loss: 0.0510 - val_loss: 0.1121\n",
      "Epoch 35/50\n",
      "25/25 - 0s - loss: 0.0513 - val_loss: 0.1087\n",
      "Epoch 36/50\n",
      "25/25 - 0s - loss: 0.0511 - val_loss: 0.1091\n",
      "Epoch 37/50\n",
      "25/25 - 0s - loss: 0.0513 - val_loss: 0.1086\n",
      "Epoch 38/50\n",
      "25/25 - 0s - loss: 0.0502 - val_loss: 0.1119\n",
      "Epoch 39/50\n",
      "25/25 - 0s - loss: 0.0511 - val_loss: 0.1082\n",
      "Epoch 40/50\n",
      "25/25 - 0s - loss: 0.0507 - val_loss: 0.1099\n",
      "Epoch 41/50\n",
      "25/25 - 0s - loss: 0.0502 - val_loss: 0.1098\n",
      "Epoch 42/50\n",
      "25/25 - 0s - loss: 0.0497 - val_loss: 0.1115\n",
      "Epoch 43/50\n",
      "25/25 - 0s - loss: 0.0506 - val_loss: 0.1073\n",
      "Epoch 44/50\n",
      "25/25 - 0s - loss: 0.0504 - val_loss: 0.1102\n",
      "Epoch 45/50\n",
      "25/25 - 0s - loss: 0.0501 - val_loss: 0.1097\n",
      "Epoch 46/50\n",
      "25/25 - 0s - loss: 0.0501 - val_loss: 0.1107\n",
      "Epoch 47/50\n",
      "25/25 - 0s - loss: 0.0499 - val_loss: 0.1106\n",
      "Epoch 48/50\n",
      "25/25 - 0s - loss: 0.0497 - val_loss: 0.1090\n",
      "Epoch 49/50\n",
      "25/25 - 0s - loss: 0.0501 - val_loss: 0.1139\n",
      "Epoch 50/50\n",
      "25/25 - 0s - loss: 0.0500 - val_loss: 0.1080\n"
     ]
    }
   ],
   "source": [
    "np.random.seed(202)\n",
    "\n",
    "epochs = 50\n",
    "batch_size = 64\n",
    "\n",
    "ranged_hist = ranged_btcoin_model.fit(LSTM_training_inputs[:-pred_range], LSTM_ranged_training_outputs,\n",
    "                                       validation_data=(LSTM_val_inputs[:-pred_range], LSTM_ranged_val_outputs), epochs=epochs, batch_size=batch_size, verbose=2, shuffle=True, workers=8)\n"
   ]
  },
  {
   "cell_type": "markdown",
   "metadata": {},
   "source": [
    "Plot MAE:"
   ]
  },
  {
   "cell_type": "code",
   "execution_count": 290,
   "metadata": {},
   "outputs": [
    {
     "data": {
      "image/png": "[encoded data removed]",
      "text/plain": [
       "<Figure size 720x720 with 1 Axes>"
      ]
     },
     "metadata": {
      "needs_background": "light"
     },
     "output_type": "display_data"
    }
   ],
   "source": [
    "fig, ax1 = plt.subplots(1, 1, figsize=(10, 10))\n",
    "\n",
    "ax1.plot(ranged_hist.epoch, ranged_hist.history['loss'], color='b', label='Loss')\n",
    "ax1.plot(ranged_hist.epoch, ranged_hist.history['val_loss'], color='orange', label='Val_loss')\n",
    "ax1.set_xticks(range(0, len(ranged_hist.epoch)))\n",
    "ax1.set_title('Training Error')\n",
    "ax1.set_ylabel('Mean Absolute Error (MAE)', fontsize=12)\n",
    "ax1.set_xlabel('#Epoch', fontsize=12)\n",
    "plt.legend()\n",
    "plt.show()"
   ]
  },
  {
   "cell_type": "markdown",
   "metadata": {},
   "source": [
    "#Get predictions and reformat array"
   ]
  },
  {
   "cell_type": "code",
   "execution_count": 291,
   "metadata": {},
   "outputs": [],
   "source": [
    "pred_prices = (ranged_btcoin_model.predict(LSTM_test_inputs)[:-pred_range][::pred_range] + 1) *\\\n",
    "              test_set['bit_Close'].values[:-(window_len + pred_range)][::pred_range].reshape(int(np.ceil((len(LSTM_test_inputs) -\n",
    "                                                                                            pred_range)/float(pred_range))), 1)\n"
   ]
  },
  {
   "cell_type": "markdown",
   "metadata": {},
   "source": [
    "\n",
    "#Plot predictions side-by-side with actual values"
   ]
  },
  {
   "cell_type": "code",
   "execution_count": 292,
   "metadata": {
    "scrolled": false
   },
   "outputs": [
    {
     "data": {
      "image/png": "[encoded data removed]",
      "text/plain": [
       "<Figure size 720x720 with 1 Axes>"
      ]
     },
     "metadata": {
      "needs_background": "light"
     },
     "output_type": "display_data"
    }
   ],
   "source": [
    "pred_colors = [\"#FF69B4\", \"#5D6D7E\", \"#F4D03F\", \"#A569BD\", \"#45B39D\"]\n",
    "\n",
    "fig, ax1 = plt.subplots(1, 1, figsize=(10, 10))\n",
    "\n",
    "ax1.plot(pd.to_datetime(bitcoin_market_info[bitcoin_market_info['Date'] >= split_date_val]['Date'][window_len:]),\n",
    "         test_set['bit_Close'][window_len:], label='Actual values', color='b')\n",
    "\n",
    "for i, pred in enumerate(pred_prices):\n",
    "\n",
    "    if i < pred_range: #Print label=predicted for the first time\n",
    "\n",
    "        ax1.plot(pd.to_datetime(bitcoin_market_info[bitcoin_market_info['Date'] >= split_date_val]['Date'][window_len:])[(i * pred_range):((i * pred_range) + pred_range)],\n",
    "                 pred, color=pred_colors[i % pred_range], label='Predicted')\n",
    "\n",
    "    else: #Dont print label=predicted again\n",
    "\n",
    "        ax1.plot(pd.to_datetime(bitcoin_market_info[bitcoin_market_info['Date'] >= split_date_val]['Date'][window_len:])[\n",
    "                 (i * pred_range):((i * pred_range) + pred_range)],\n",
    "                 pred, color=pred_colors[i % pred_range])\n",
    "\n",
    "ax1.set_title('Test Set: 5 Timepoint Predictions', fontsize=13)\n",
    "ax1.set_ylabel('Bitcoin Price ($)', fontsize=12)\n",
    "ax1.legend(bbox_to_anchor=(0.13, 1), loc=2, borderaxespad=0., prop={'size': 12})\n",
    "\n",
    "ax1.legend(loc=2, bbox_to_anchor=(0.1, 1), borderaxespad=0., prop={'size': 14})\n",
    "\n",
    "res = ((len(test_set['bit_Close'].values[window_len:])-window_len)%pred_range)\n",
    "test_set_len = len(test_set['bit_Close'])\n",
    "\n",
    "all_preds_plus1 = (((ranged_btcoin_model.predict(LSTM_test_inputs)[:-pred_range][::pred_range] + 1)).reshape(-1)) \n",
    "\n",
    "MAE_norm_val = np.mean( np.abs(all_preds_plus1 - (test_set['bit_Close'].values[window_len:(test_set_len-res)]/test_set['bit_Close'].values[:-(window_len+res)])))\n",
    "\n",
    "MAE_abs_val = np.mean(np.abs((pred_prices.reshape(-1)) - (test_set['bit_Close'].values[window_len:test_set_len-res])))\n",
    "\n",
    "\n",
    "ax1.annotate('MAE abs val: %.4f \\n MAE norm val: %.4f' % (MAE_abs_val, MAE_norm_val),\n",
    "             xy=(0.65, 0.95), xycoords='axes fraction',\n",
    "             xytext=(0.65, 0.95), textcoords='axes fraction')\n",
    "plt.show()"
   ]
  },
  {
   "cell_type": "markdown",
   "metadata": {},
   "source": [
    "##Try to make predictions for earliest period:"
   ]
  },
  {
   "cell_type": "markdown",
   "metadata": {},
   "source": [
    "Keep data for a specific date and before:"
   ]
  },
  {
   "cell_type": "code",
   "execution_count": null,
   "metadata": {},
   "outputs": [],
   "source": [
    "spec_date = pd.to_datetime('2017-11-01')\n",
    "\n",
    "spec_date_bitcoin_market_info = bitcoin_market_info[bitcoin_market_info['Date'] <= spec_date]"
   ]
  },
  {
   "cell_type": "markdown",
   "metadata": {},
   "source": [
    "Split data:"
   ]
  },
  {
   "cell_type": "code",
   "execution_count": null,
   "metadata": {},
   "outputs": [],
   "source": [
    "def split_data(perc_train_set, currency_data):\n",
    "        \n",
    "        splt_date = currency_data.iloc[round(currency_data.shape[0] * perc_train_set)]['Date']\n",
    "        tr_set, tst_set = currency_data[currency_data['Date'] < splt_date], \\\n",
    "                         currency_data[currency_data['Date'] >= splt_date]\n",
    "        \n",
    "        return tr_set, tst_set, splt_date\n"
   ]
  },
  {
   "cell_type": "code",
   "execution_count": null,
   "metadata": {},
   "outputs": [],
   "source": [
    "percent_train_set = 0.95\n",
    "\n",
    "training_set, test_set, split_date= split_data(percent_train_set, spec_date_bitcoin_market_info)"
   ]
  },
  {
   "cell_type": "markdown",
   "metadata": {},
   "source": [
    "Normalize training inputs and outputs:"
   ]
  },
  {
   "cell_type": "code",
   "execution_count": null,
   "metadata": {},
   "outputs": [],
   "source": [
    "def norm_train_test_in_out(prd_range, wind_len, tr_set, tst_set, feats):\n",
    "    \n",
    "    LSTM_tr_in = []\n",
    "    for i in range(len(tr_set) - wind_len):\n",
    "        tmp_set = tr_set[i:(i + wind_len)].copy()\n",
    "        tmp_set = tmp_set.drop(['Date'], axis=1)\n",
    "\n",
    "        for col in feats:\n",
    "            tmp_set[:][col] = tmp_set[col] / tmp_set[col].iloc[0] - 1\n",
    "\n",
    "        LSTM_tr_in.append(tmp_set)\n",
    "    \n",
    "    LSTM_tr_in = [np.array(LSTM_tr_i) for LSTM_tr_i in LSTM_tr_in]\n",
    "    LSTM_tr_in = np.array(LSTM_tr_in)\n",
    "    \n",
    "    \n",
    "    LSTM_test_in = []\n",
    "    for i in range(len(tst_set) - wind_len):\n",
    "        tmp_set = tst_set[i:(i + wind_len)].copy()\n",
    "        tmp_set = tmp_set.drop(['Date'], axis=1)\n",
    "\n",
    "        for col in feats:\n",
    "            tmp_set[:][col] = tmp_set[col] / tmp_set[col].iloc[0] - 1\n",
    "\n",
    "        LSTM_test_in.append(tmp_set)\n",
    "        \n",
    "    LSTM_test_in = [np.array(LSTM_test_i) for LSTM_test_i in LSTM_test_in]\n",
    "    LSTM_test_in = np.array(LSTM_test_in)\n",
    "    \n",
    "    \n",
    "    LSTM_rangd_train_out = []\n",
    "    for i in range(wind_len, len(tr_set['Close']) - prd_range):\n",
    "        LSTM_rangd_train_out.append((tr_set['Close'][i:i+prd_range].values/tr_set['Close'][i-wind_len]) - 1)\n",
    "\n",
    "    LSTM_rangd_train_out = np.array(LSTM_rangd_train_out)\n",
    "    \n",
    "    return LSTM_rangd_train_out, LSTM_tr_in, LSTM_test_in"
   ]
  },
  {
   "cell_type": "code",
   "execution_count": null,
   "metadata": {},
   "outputs": [],
   "source": [
    "pred_range = 5\n",
    "window_len = 10\n",
    "features = ['Close']\n",
    "\n",
    "LSTM_ranged_training_outputs, LSTM_training_inputs, LSTM_test_inputs = norm_train_test_in_out(pred_range, window_len, \n",
    "                                                                                              training_set, test_set, \n",
    "                                                                                              features)"
   ]
  },
  {
   "cell_type": "markdown",
   "metadata": {},
   "source": [
    "Bulid and train model:"
   ]
  },
  {
   "cell_type": "code",
   "execution_count": null,
   "metadata": {},
   "outputs": [],
   "source": [
    "def build_and_train_model(epchs, btch_size, neurs, prd_range, LSTM_train_in, LSTM_rangd_train_out, shffl):\n",
    "\n",
    "    rnged_btcoin_model = build_model(LSTM_train_in, output_size=prd_range, neurons=neurs)\n",
    "    \n",
    "    np.random.seed(202)\n",
    "\n",
    "    rnged_hist = rnged_btcoin_model.fit(LSTM_train_in[:-prd_range], LSTM_rangd_train_out,\n",
    "                                      epochs=epchs, batch_size=btch_size, verbose=1, shuffle=shffl)\n",
    "    \n",
    "    return rnged_btcoin_model, rnged_hist"
   ]
  },
  {
   "cell_type": "code",
   "execution_count": null,
   "metadata": {
    "scrolled": false
   },
   "outputs": [],
   "source": [
    "epochs = 2\n",
    "batch_size = 1\n",
    "neurons = 20\n",
    "shuffle = True\n",
    "\n",
    "ranged_btcoin_model, ranged_hist = build_and_train_model(epochs, batch_size, neurons, pred_range, LSTM_training_inputs,\n",
    "                                                        LSTM_ranged_training_outputs, True)"
   ]
  },
  {
   "cell_type": "markdown",
   "metadata": {},
   "source": [
    "Get predictions:"
   ]
  },
  {
   "cell_type": "code",
   "execution_count": null,
   "metadata": {},
   "outputs": [],
   "source": [
    "def get_preds(rnged_btcoin_model, LSTM_test_in, prd_range, tst_set, wind_len):\n",
    "    prd_prices = (rnged_btcoin_model.predict(LSTM_test_in)[:-prd_range][::prd_range] + 1) *\\\n",
    "              tst_set['Close'].values[:-(wind_len + prd_range)][::prd_range].reshape(int(np.ceil((len(LSTM_test_in) -\n",
    "                                                                                            prd_range)/float(prd_range))), 1)\n",
    "    \n",
    "    return prd_prices"
   ]
  },
  {
   "cell_type": "code",
   "execution_count": null,
   "metadata": {},
   "outputs": [],
   "source": [
    "pred_prices = get_preds(ranged_btcoin_model, LSTM_test_inputs, pred_range, test_set, window_len)"
   ]
  },
  {
   "cell_type": "markdown",
   "metadata": {},
   "source": [
    "Plot predictions:"
   ]
  },
  {
   "cell_type": "code",
   "execution_count": null,
   "metadata": {},
   "outputs": [],
   "source": [
    "def plot_preds(currency_data, splt_date, wind_len, prd_range, tst_set, prd_prices):\n",
    "    \n",
    "    pred_colors = [\"#FF69B4\", \"#5D6D7E\", \"#F4D03F\", \"#A569BD\", \"#45B39D\"]\n",
    "\n",
    "    fig, ax1 = plt.subplots(1, 1, figsize=(10, 10))\n",
    "\n",
    "    ax1.plot(pd.to_datetime(currency_data[currency_data['Date'] >= splt_date]['Date'][wind_len:]),\n",
    "             tst_set['Close'][wind_len:], label='Actual values', color='b')\n",
    "\n",
    "    for i, pred in enumerate(prd_prices):\n",
    "\n",
    "        if i < prd_range: #Print label=predicted for the first time\n",
    "\n",
    "            ax1.plot(pd.to_datetime(currency_data[currency_data['Date'] >= splt_date]['Date'][wind_len:])[(i * prd_range):((i * prd_range) + prd_range)],\n",
    "                     pred, color=pred_colors[i % prd_range], label='Predicted')\n",
    "\n",
    "        else: #Dont print label=predicted again\n",
    "\n",
    "            ax1.plot(pd.to_datetime(currency_data[currency_data['Date'] >= splt_date]['Date'][wind_len:])[\n",
    "                     (i * prd_range):((i * prd_range) + prd_range)],\n",
    "                     pred, color=pred_colors[i % prd_range])\n",
    "\n",
    "    ax1.set_title('Test Set: 5 Timepoint Predictions', fontsize=13)\n",
    "    ax1.set_ylabel('Bitcoin Price ($)', fontsize=12)\n",
    "    ax1.legend(bbox_to_anchor=(0.13, 1), loc=2, borderaxespad=0., prop={'size': 12})\n",
    "    plt.show()"
   ]
  },
  {
   "cell_type": "code",
   "execution_count": null,
   "metadata": {},
   "outputs": [],
   "source": [
    "plot_preds(spec_date_bitcoin_market_info, split_date, window_len, pred_range, test_set, pred_prices)"
   ]
  }
 ],
 "metadata": {
  "kernelspec": {
   "display_name": "Python 3",
   "language": "python",
   "name": "python3"
  },
  "language_info": {
   "codemirror_mode": {
    "name": "ipython",
    "version": 3
   },
   "file_extension": ".py",
   "mimetype": "text/x-python",
   "name": "python",
   "nbconvert_exporter": "python",
   "pygments_lexer": "ipython3",
   "version": "3.8.5"
  }
 },
 "nbformat": 4,
 "nbformat_minor": 4
}
